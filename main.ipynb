{
 "cells": [
  {
   "cell_type": "markdown",
   "id": "9c36d435",
   "metadata": {},
   "source": [
    "### Import Packages"
   ]
  },
  {
   "cell_type": "code",
   "execution_count": 1,
   "id": "2faf23d5",
   "metadata": {},
   "outputs": [
    {
     "name": "stderr",
     "output_type": "stream",
     "text": [
      "2022-01-20 13:29:47.759109: W tensorflow/stream_executor/platform/default/dso_loader.cc:64] Could not load dynamic library 'libcudart.so.11.0'; dlerror: libcudart.so.11.0: cannot open shared object file: No such file or directory\n",
      "2022-01-20 13:29:47.759133: I tensorflow/stream_executor/cuda/cudart_stub.cc:29] Ignore above cudart dlerror if you do not have a GPU set up on your machine.\n"
     ]
    }
   ],
   "source": [
    "import pandas as pd\n",
    "import numpy as np\n",
    "import matplotlib.pyplot as plt\n",
    "\n",
    "# tokenization\n",
    "from nltk.stem import WordNetLemmatizer\n",
    "from nltk.tokenize import regexp_tokenize\n",
    "from nltk.tokenize import TweetTokenizer\n",
    "from nltk.tokenize import word_tokenize\n",
    "\n",
    "# stopword removal\n",
    "import nltk\n",
    "import string\n",
    "import re\n",
    "from nltk.corpus import stopwords\n",
    "english_stopwords = stopwords.words(\"english\")\n",
    "\n",
    "# Vectorization/Preprocessing\n",
    "from sklearn.feature_extraction.text import TfidfVectorizer\n",
    "from sklearn.model_selection import train_test_split\n",
    "from tensorflow.keras.utils import to_categorical\n",
    "\n",
    "# SVM\n",
    "from sklearn.svm import SVC\n",
    "from sklearn.model_selection import GridSearchCV\n",
    "\n",
    "# Classifiers\n",
    "from sklearn.linear_model import RidgeClassifier\n",
    "from sklearn.model_selection import cross_val_score\n",
    "\n",
    "# metrics\n",
    "from sklearn.metrics import f1_score\n",
    "from sklearn.metrics import accuracy_score\n",
    "\n",
    "# Neural Networks\n",
    "import tensorflow as tf \n",
    "from tensorflow.keras.models import Sequential \n",
    "from tensorflow.keras.layers import Dropout, Input, Dense \n",
    "from keras.utils.vis_utils import plot_model\n",
    "from keras.callbacks import EarlyStopping\n",
    "from tensorflow.python.framework.random_seed import set_random_seed\n",
    "\n",
    "\n",
    "datapath = 'data/'"
   ]
  },
  {
   "cell_type": "markdown",
   "id": "b02e89dd",
   "metadata": {},
   "source": [
    "### Load Data"
   ]
  },
  {
   "cell_type": "code",
   "execution_count": 2,
   "id": "c3797c25",
   "metadata": {},
   "outputs": [],
   "source": [
    "data = pd.read_csv(datapath + 'disaster_train.csv', sep=',',)"
   ]
  },
  {
   "cell_type": "markdown",
   "id": "f2e8ca2d",
   "metadata": {},
   "source": [
    "### Tokenize data\n",
    "\n",
    "we extract the text of the tweets as X vector and the transform them into a `tf-idf` (term-frequency times inverse document-frequency) matrix. \n",
    "\n",
    "__TODO__\n",
    "- At a later stage add location and keyword data to the feature matrix\n",
    "    - Problem: How do we addjust the weight of those, should they way as much as the occurence of one word or more?\n",
    "    "
   ]
  },
  {
   "cell_type": "code",
   "execution_count": 3,
   "id": "8c29b9be",
   "metadata": {
    "scrolled": true
   },
   "outputs": [
    {
     "data": {
      "text/plain": [
       "0    Our Deeds are the Reason of this #earthquake M...\n",
       "1               Forest fire near La Ronge Sask. Canada\n",
       "2    All residents asked to 'shelter in place' are ...\n",
       "3    13,000 people receive #wildfires evacuation or...\n",
       "4    Just got sent this photo from Ruby #Alaska as ...\n",
       "Name: text, dtype: object"
      ]
     },
     "execution_count": 3,
     "metadata": {},
     "output_type": "execute_result"
    }
   ],
   "source": [
    "# split feature vector and target vector\n",
    "Y_train = data[\"target\"].values \n",
    "X_train = data.values[:, 1:4]\n",
    "\n",
    "# Get only column with tweet text\n",
    "x_tweets = data['text']\n",
    "x_tweets.head()"
   ]
  },
  {
   "cell_type": "code",
   "execution_count": 4,
   "id": "cc476e93",
   "metadata": {
    "scrolled": true
   },
   "outputs": [
    {
     "name": "stdout",
     "output_type": "stream",
     "text": [
      "[['our', 'deeds', 'are', 'the', 'reason', 'of', 'this', '#earthquake', 'may', 'allah', 'forgive', 'us', 'all'], ['forest', 'fire', 'near', 'la', 'ronge', 'sask', '.', 'canada']]\n"
     ]
    }
   ],
   "source": [
    "# Tweet tokenizer for making all alphabetical symbols lowercase, reducing length of words\n",
    "# if they are e.g. 'goaaaal' and for removing account handles\n",
    "tknzr = TweetTokenizer(preserve_case = False, strip_handles = True, reduce_len = True)\n",
    "tweet_tokens = []\n",
    "for sent in x_tweets:\n",
    "    #print(tweet_tokenizer.tokenize(sent))\n",
    "    tweet_tokens.append(tknzr.tokenize(sent))\n",
    "print(tweet_tokens[:2])"
   ]
  },
  {
   "cell_type": "code",
   "execution_count": 5,
   "id": "030c2a6b",
   "metadata": {
    "scrolled": true
   },
   "outputs": [
    {
     "data": {
      "text/plain": [
       "[['deeds', 'reason', 'earthquake', 'may', 'allah', 'forgive', 'us'],\n",
       " ['forest', 'fire', 'near', 'la', 'ronge', 'sask', 'canada']]"
      ]
     },
     "execution_count": 5,
     "metadata": {},
     "output_type": "execute_result"
    }
   ],
   "source": [
    "# clean out stopwords, # signs, punctuation and numbers\n",
    "clean_t2 = [[word if (word.startswith('#') == False) else re.sub(r'#', '', word) for word in tweet] for tweet in tweet_tokens]\n",
    "clean_t3 = [[word for word in tweet if (word not in string.punctuation) and (word.isalpha() == True) and (word not in english_stopwords)] for tweet in clean_t2]\n",
    "clean_t3[:2]"
   ]
  },
  {
   "cell_type": "code",
   "execution_count": 6,
   "id": "83ead9e8",
   "metadata": {},
   "outputs": [
    {
     "data": {
      "text/plain": [
       "array(['deeds reason earthquake may allah forgive us',\n",
       "       'forest fire near la ronge sask canada'], dtype='<U138')"
      ]
     },
     "execution_count": 6,
     "metadata": {},
     "output_type": "execute_result"
    }
   ],
   "source": [
    "# Transform into correct input form for the Vectorizer\n",
    "clean_t4 = [' '.join(tweet) for tweet in clean_t3]\n",
    "x_tweets = np.array(clean_t4)\n",
    "x_tweets[:2]"
   ]
  },
  {
   "cell_type": "code",
   "execution_count": 7,
   "id": "48aa71b7",
   "metadata": {},
   "outputs": [
    {
     "name": "stdout",
     "output_type": "stream",
     "text": [
      "vocabulary size: 12427\n"
     ]
    }
   ],
   "source": [
    "# split train and test set\n",
    "X_train, X_test, y_train, y_test = train_test_split(x_tweets, Y_train, test_size=0.15, random_state=42)\n",
    "\n",
    "# create tf-idf vectorizer\n",
    "tf_computer = TfidfVectorizer(use_idf=False, ngram_range=(1,1))\n",
    "\n",
    "# tf_computer = TfidfVectorizer(use_idf=True, ngram_range=(1,3)) # Increasing n-gram range; IDF usage\n",
    "# using IDF inclreases accuracy by a little bit\n",
    "\n",
    "# vectorize train and test set\n",
    "train_features = tf_computer.fit_transform(X_train)\n",
    "test_features = tf_computer.transform(X_test)\n",
    "\n",
    "print(\"vocabulary size:\", len(tf_computer.vocabulary_))"
   ]
  },
  {
   "cell_type": "markdown",
   "id": "7f548f37",
   "metadata": {},
   "source": [
    "# First naive try"
   ]
  },
  {
   "cell_type": "code",
   "execution_count": 8,
   "id": "d91a82e8",
   "metadata": {},
   "outputs": [
    {
     "data": {
      "text/plain": [
       "array([0.7399651 , 0.73634204, 0.73012188])"
      ]
     },
     "execution_count": 8,
     "metadata": {},
     "output_type": "execute_result"
    }
   ],
   "source": [
    "# select a linear model based on the assumption that specific words (linearly) imply a real disaster or not\n",
    "# TODO: vary hpyerparameter alpha\n",
    "\n",
    "clf = RidgeClassifier()\n",
    "scores = cross_val_score(clf, train_features, y_train, cv=3, scoring=\"f1\")\n",
    "scores"
   ]
  },
  {
   "cell_type": "code",
   "execution_count": 9,
   "id": "c496ce63",
   "metadata": {},
   "outputs": [
    {
     "name": "stdout",
     "output_type": "stream",
     "text": [
      "Train F1 score: 0.927\n",
      "Test F1 score: 0.749\n"
     ]
    }
   ],
   "source": [
    "clf.fit(train_features, y_train)\n",
    "y_train_pred = clf.predict(train_features)\n",
    "y_test_pred = clf.predict(test_features)\n",
    "\n",
    "\n",
    "print('Train F1 score:', np.round(f1_score(y_train, y_train_pred), 3))\n",
    "print('Test F1 score:', np.round(f1_score(y_test, y_test_pred), 3))"
   ]
  },
  {
   "cell_type": "markdown",
   "id": "b9447ab8",
   "metadata": {},
   "source": [
    "This looks very much like overfitting"
   ]
  },
  {
   "cell_type": "markdown",
   "id": "72ae29a2",
   "metadata": {},
   "source": [
    "# Second (a bit less) naive try\n",
    "Lets try a neural network."
   ]
  },
  {
   "cell_type": "markdown",
   "id": "a0575dda",
   "metadata": {},
   "source": [
    "### Create early stopping mechanism for NN"
   ]
  },
  {
   "cell_type": "code",
   "execution_count": 10,
   "id": "a23cdf2d",
   "metadata": {},
   "outputs": [],
   "source": [
    "from keras.callbacks import EarlyStopping\n",
    "\n",
    "# simple early stopping\n",
    "es = EarlyStopping(monitor='val_loss', #quantity to be monitored\n",
    "                   mode='min', #we look for decreasing patterns stop \n",
    "                   patience = 3, #number of epochs with no improvement\n",
    "                   verbose=1)\n",
    "\n",
    "np.random.seed(123)\n",
    "set_random_seed(2)"
   ]
  },
  {
   "cell_type": "code",
   "execution_count": 11,
   "id": "4444b115",
   "metadata": {},
   "outputs": [],
   "source": [
    "# change to dense format to get the correct input for the keras model\n",
    "train_features_den = train_features.todense()\n",
    "test_features_den = test_features.todense()\n",
    "feature_vector_length = train_features_den.shape[1]\n",
    "\n",
    "# one-hot-encoding of labels\n",
    "n_classes = len(set(y_train))\n",
    "y_train_cat = to_categorical(y_train, n_classes)\n",
    "y_test_cat = to_categorical(y_test, n_classes)"
   ]
  },
  {
   "cell_type": "code",
   "execution_count": 12,
   "id": "1aaa22c7",
   "metadata": {},
   "outputs": [
    {
     "name": "stderr",
     "output_type": "stream",
     "text": [
      "2022-01-20 13:30:01.041427: W tensorflow/stream_executor/platform/default/dso_loader.cc:64] Could not load dynamic library 'libcuda.so.1'; dlerror: libcuda.so.1: cannot open shared object file: No such file or directory\n",
      "2022-01-20 13:30:01.041475: W tensorflow/stream_executor/cuda/cuda_driver.cc:269] failed call to cuInit: UNKNOWN ERROR (303)\n",
      "2022-01-20 13:30:01.041513: I tensorflow/stream_executor/cuda/cuda_diagnostics.cc:156] kernel driver does not appear to be running on this host (siprius): /proc/driver/nvidia/version does not exist\n",
      "2022-01-20 13:30:01.041987: I tensorflow/core/platform/cpu_feature_guard.cc:151] This TensorFlow binary is optimized with oneAPI Deep Neural Network Library (oneDNN) to use the following CPU instructions in performance-critical operations:  AVX2 FMA\n",
      "To enable them in other operations, rebuild TensorFlow with the appropriate compiler flags.\n"
     ]
    }
   ],
   "source": [
    "# keras does not provide f1 as a metric during training, so we need to calculate it by hand using precision and recall\n",
    "precision = tf.keras.metrics.Precision()\n",
    "recall = tf.keras.metrics.Recall()"
   ]
  },
  {
   "cell_type": "code",
   "execution_count": 16,
   "id": "4cd3c1f7",
   "metadata": {},
   "outputs": [
    {
     "name": "stdout",
     "output_type": "stream",
     "text": [
      "Epoch 1/10\n",
      "52/52 - 2s - loss: 0.6246 - accuracy: 0.6468 - precision: 0.6711 - recall: 0.6711 - val_loss: 0.5095 - val_accuracy: 0.7792 - val_precision: 0.7792 - val_recall: 0.7792 - 2s/epoch - 37ms/step\n",
      "Epoch 2/10\n",
      "52/52 - 1s - loss: 0.3219 - accuracy: 0.8804 - precision: 0.8804 - recall: 0.8804 - val_loss: 0.5201 - val_accuracy: 0.7869 - val_precision: 0.7869 - val_recall: 0.7869 - 1s/epoch - 25ms/step\n",
      "Epoch 3/10\n",
      "52/52 - 1s - loss: 0.1520 - accuracy: 0.9440 - precision: 0.9440 - recall: 0.9440 - val_loss: 0.6075 - val_accuracy: 0.7699 - val_precision: 0.7699 - val_recall: 0.7699 - 1s/epoch - 22ms/step\n",
      "Epoch 4/10\n",
      "52/52 - 1s - loss: 0.0941 - accuracy: 0.9681 - precision: 0.9681 - recall: 0.9681 - val_loss: 0.6916 - val_accuracy: 0.7660 - val_precision: 0.7660 - val_recall: 0.7660 - 1s/epoch - 23ms/step\n",
      "Epoch 00004: early stopping\n"
     ]
    }
   ],
   "source": [
    "from keras.models import Sequential\n",
    "\n",
    "# create model layers\n",
    "model = Sequential() \n",
    "model.add(Dense(input_dim = feature_vector_length, units=200 , activation='relu')) \n",
    "model.add(Dense(100, activation='relu'))\n",
    "model.add(Dense(n_classes, activation='softmax')) #output layer\n",
    "\n",
    "# configure the model and start training\n",
    "model.compile(loss='binary_crossentropy', #loss metric\n",
    "    optimizer='adam',  #optimizer\n",
    "    metrics=['accuracy', precision, recall]) #displayed metric\n",
    "\n",
    "\n",
    "history = model.fit(train_features_den, y_train_cat, batch_size=100, epochs=10, verbose=2, validation_split=0.2, callbacks=[es])"
   ]
  },
  {
   "cell_type": "code",
   "execution_count": 17,
   "id": "adc7cbea",
   "metadata": {},
   "outputs": [
    {
     "data": {
      "text/html": [
       "<div>\n",
       "<style scoped>\n",
       "    .dataframe tbody tr th:only-of-type {\n",
       "        vertical-align: middle;\n",
       "    }\n",
       "\n",
       "    .dataframe tbody tr th {\n",
       "        vertical-align: top;\n",
       "    }\n",
       "\n",
       "    .dataframe thead th {\n",
       "        text-align: right;\n",
       "    }\n",
       "</style>\n",
       "<table border=\"1\" class=\"dataframe\">\n",
       "  <thead>\n",
       "    <tr style=\"text-align: right;\">\n",
       "      <th></th>\n",
       "      <th>loss</th>\n",
       "      <th>accuracy</th>\n",
       "      <th>precision</th>\n",
       "      <th>recall</th>\n",
       "      <th>val_loss</th>\n",
       "      <th>val_accuracy</th>\n",
       "      <th>val_precision</th>\n",
       "      <th>val_recall</th>\n",
       "      <th>f1</th>\n",
       "      <th>val_f1</th>\n",
       "    </tr>\n",
       "  </thead>\n",
       "  <tbody>\n",
       "    <tr>\n",
       "      <th>0</th>\n",
       "      <td>0.624583</td>\n",
       "      <td>0.646832</td>\n",
       "      <td>0.671148</td>\n",
       "      <td>0.671148</td>\n",
       "      <td>0.509464</td>\n",
       "      <td>0.779151</td>\n",
       "      <td>0.779151</td>\n",
       "      <td>0.779151</td>\n",
       "      <td>0.671148</td>\n",
       "      <td>0.779151</td>\n",
       "    </tr>\n",
       "    <tr>\n",
       "      <th>1</th>\n",
       "      <td>0.321932</td>\n",
       "      <td>0.880410</td>\n",
       "      <td>0.880410</td>\n",
       "      <td>0.880410</td>\n",
       "      <td>0.520080</td>\n",
       "      <td>0.786873</td>\n",
       "      <td>0.786873</td>\n",
       "      <td>0.786873</td>\n",
       "      <td>0.880410</td>\n",
       "      <td>0.786873</td>\n",
       "    </tr>\n",
       "    <tr>\n",
       "      <th>2</th>\n",
       "      <td>0.151989</td>\n",
       "      <td>0.943972</td>\n",
       "      <td>0.943972</td>\n",
       "      <td>0.943972</td>\n",
       "      <td>0.607520</td>\n",
       "      <td>0.769884</td>\n",
       "      <td>0.769884</td>\n",
       "      <td>0.769884</td>\n",
       "      <td>0.943972</td>\n",
       "      <td>0.769884</td>\n",
       "    </tr>\n",
       "    <tr>\n",
       "      <th>3</th>\n",
       "      <td>0.094060</td>\n",
       "      <td>0.968122</td>\n",
       "      <td>0.968122</td>\n",
       "      <td>0.968122</td>\n",
       "      <td>0.691635</td>\n",
       "      <td>0.766023</td>\n",
       "      <td>0.766023</td>\n",
       "      <td>0.766023</td>\n",
       "      <td>0.968122</td>\n",
       "      <td>0.766023</td>\n",
       "    </tr>\n",
       "  </tbody>\n",
       "</table>\n",
       "</div>"
      ],
      "text/plain": [
       "       loss  accuracy  precision    recall  val_loss  val_accuracy  \\\n",
       "0  0.624583  0.646832   0.671148  0.671148  0.509464      0.779151   \n",
       "1  0.321932  0.880410   0.880410  0.880410  0.520080      0.786873   \n",
       "2  0.151989  0.943972   0.943972  0.943972  0.607520      0.769884   \n",
       "3  0.094060  0.968122   0.968122  0.968122  0.691635      0.766023   \n",
       "\n",
       "   val_precision  val_recall        f1    val_f1  \n",
       "0       0.779151    0.779151  0.671148  0.779151  \n",
       "1       0.786873    0.786873  0.880410  0.786873  \n",
       "2       0.769884    0.769884  0.943972  0.769884  \n",
       "3       0.766023    0.766023  0.968122  0.766023  "
      ]
     },
     "execution_count": 17,
     "metadata": {},
     "output_type": "execute_result"
    }
   ],
   "source": [
    "history_pd = pd.DataFrame(history.history)\n",
    "history_pd['f1'] = 2/(1/history_pd['precision'] + 1/history_pd['recall'])\n",
    "history_pd['val_f1'] = 2/(1/history_pd['val_precision'] + 1/history_pd['val_recall'])\n",
    "history_pd"
   ]
  },
  {
   "cell_type": "code",
   "execution_count": 18,
   "id": "dda1783e",
   "metadata": {},
   "outputs": [
    {
     "data": {
      "image/png": "[encoded data removed]",
      "text/plain": [
       "<Figure size 432x288 with 1 Axes>"
      ]
     },
     "metadata": {
      "needs_background": "light"
     },
     "output_type": "display_data"
    },
    {
     "data": {
      "image/png": "[encoded data removed]",
      "text/plain": [
       "<Figure size 432x288 with 1 Axes>"
      ]
     },
     "metadata": {
      "needs_background": "light"
     },
     "output_type": "display_data"
    }
   ],
   "source": [
    "plt.plot(history_pd['loss'])\n",
    "plt.plot(history_pd['val_loss'])\n",
    "plt.title('model loss')\n",
    "plt.ylabel('loss')\n",
    "plt.xlabel('epoch')\n",
    "plt.legend(['train', 'val'], loc='upper left')\n",
    "plt.show()\n",
    "\n",
    "# summarize history for accuracy\n",
    "plt.plot(history_pd['f1'])\n",
    "plt.plot(history_pd['val_f1'])\n",
    "plt.title('model f1 score')\n",
    "plt.ylabel('f1 score')\n",
    "plt.xlabel('epoch')\n",
    "plt.legend(['train', 'val'], loc='upper left')\n",
    "# plt.ylim(0.8, 1)\n",
    "plt.show()\n"
   ]
  },
  {
   "cell_type": "code",
   "execution_count": 20,
   "id": "46a62b0f",
   "metadata": {},
   "outputs": [
    {
     "name": "stdout",
     "output_type": "stream",
     "text": [
      "Train F1 score: 0.929\n",
      "Test F1 score: 0.71\n",
      "\n",
      "Train accuracy score: 0.939\n",
      "Test accuray score: 0.753\n"
     ]
    }
   ],
   "source": [
    "y_proba = model.predict(train_features_den)\n",
    "y_train_pred = y_proba.argmax(axis=-1)\n",
    "\n",
    "y_proba = model.predict(test_features.todense())\n",
    "y_test_pred = y_proba.argmax(axis=-1)\n",
    "\n",
    "print('Train F1 score:', np.round(f1_score(y_train, y_train_pred), 3))\n",
    "print('Test F1 score:', np.round(f1_score(y_test, y_test_pred), 3))\n",
    "print('\\nTrain accuracy score:', np.round(accuracy_score(y_train, y_train_pred), 3))\n",
    "print('Test accuray score:', np.round(accuracy_score(y_test, y_test_pred), 3))"
   ]
  },
  {
   "cell_type": "markdown",
   "id": "aa26e44a",
   "metadata": {},
   "source": [
    "### Model Variation\n",
    "\n",
    "In the following section we will try out different architectures for our model. To do so we will vary the activation function and the depth of the model."
   ]
  },
  {
   "cell_type": "code",
   "execution_count": 21,
   "id": "1bdf1fa1",
   "metadata": {},
   "outputs": [],
   "source": [
    "#  the function can be used in a loop to define several models\n",
    "\n",
    "def MLP_definer(n_layers, n_features, n_classes, activation_f):\n",
    "    \n",
    "    model = Sequential()\n",
    "    model.add(Dense(input_dim = n_features, units=500, activation=activation_f))\n",
    "    for i in range(1, n_layers):\n",
    "        model.add(Dense(units=500-10*i^2, activation=activation_f))\n",
    "        \n",
    "    model.add(Dense(units=n_classes, activation='softmax'))\n",
    "    return model"
   ]
  },
  {
   "cell_type": "code",
   "execution_count": 22,
   "id": "fbc83905",
   "metadata": {},
   "outputs": [
    {
     "name": "stdout",
     "output_type": "stream",
     "text": [
      "\n",
      " ## Activation function relu ############################################################################\n",
      "Epoch 00004: early stopping\n",
      "Number of layers: 2 \n",
      "Train Acc: 0.9741112589836121 \n",
      "Test Acc:  0.7722007632255554\n",
      "\n",
      "Epoch 00004: early stopping\n",
      "Number of layers: 3 \n",
      "Train Acc: 0.9770092964172363 \n",
      "Test Acc:  0.7783783674240112\n",
      "\n",
      "Epoch 00004: early stopping\n",
      "Number of layers: 4 \n",
      "Train Acc: 0.9781684875488281 \n",
      "Test Acc:  0.7760617733001709\n",
      "\n",
      "\n",
      " ## Activation function sigmoid ############################################################################\n",
      "Epoch 00008: early stopping\n",
      "Number of layers: 2 \n",
      "Train Acc: 0.9462905526161194 \n",
      "Test Acc:  0.7760617733001709\n",
      "\n",
      "Epoch 00009: early stopping\n",
      "Number of layers: 3 \n",
      "Train Acc: 0.9518933296203613 \n",
      "Test Acc:  0.7814671993255615\n",
      "\n",
      "Epoch 00009: early stopping\n",
      "Number of layers: 4 \n",
      "Train Acc: 0.5608578324317932 \n",
      "Test Acc:  0.5652509927749634\n",
      "\n"
     ]
    }
   ],
   "source": [
    "out = {}\n",
    "for fun in ('relu', 'sigmoid'):\n",
    "    print(f'\\n ## Activation function {fun} ############################################################################')\n",
    "    for i in range(2,5):    \n",
    "        model = MLP_definer(i, n_features=feature_vector_length, n_classes=n_classes, activation_f=fun)\n",
    "        model.compile(\n",
    "            loss='binary_crossentropy',\n",
    "            optimizer='adam',\n",
    "            metrics=['accuracy', precision, recall] #displayed metric\n",
    "        )\n",
    "        history = model.fit(train_features_den, y_train_cat, batch_size=100, epochs=20, verbose=0, validation_split=0.2, callbacks=[es])\n",
    "        out[i] = [history.history['accuracy'][-1],  history.history['val_accuracy'][-1]]\n",
    "        print(f'Number of layers: {i} \\nTrain Acc: {history.history[\"accuracy\"][-1]} \\nTest Acc:  {history.history[\"val_accuracy\"][-1]}\\n')"
   ]
  },
  {
   "cell_type": "markdown",
   "id": "fcd94446",
   "metadata": {},
   "source": [
    "### An SVM approach"
   ]
  },
  {
   "cell_type": "code",
   "execution_count": 23,
   "id": "3cc2957d",
   "metadata": {},
   "outputs": [
    {
     "data": {
      "text/plain": [
       "GridSearchCV(cv=5, estimator=SVC(random_state=123), n_jobs=-1,\n",
       "             param_grid={'C': (0.1, 1.0, 10), 'kernel': ('rbf', 'linear')})"
      ]
     },
     "execution_count": 23,
     "metadata": {},
     "output_type": "execute_result"
    }
   ],
   "source": [
    "#train the svc\n",
    "svc_grid_params = {\n",
    "    'C': (0.1, 1., 10),\n",
    "    'kernel': ('rbf', 'linear'),\n",
    "}\n",
    "\n",
    "svc_clf = SVC(random_state= 123)\n",
    "svc_v1 = GridSearchCV(svc_clf, svc_grid_params, n_jobs= -1, cv = 5)\n",
    "svc_v1.fit(train_features, y_train)"
   ]
  },
  {
   "cell_type": "code",
   "execution_count": 24,
   "id": "da77e839",
   "metadata": {},
   "outputs": [
    {
     "data": {
      "text/plain": [
       "{'C': 1.0, 'kernel': 'linear'}"
      ]
     },
     "execution_count": 24,
     "metadata": {},
     "output_type": "execute_result"
    }
   ],
   "source": [
    "svc_v1.best_params_"
   ]
  },
  {
   "cell_type": "code",
   "execution_count": 25,
   "id": "b0476c06",
   "metadata": {},
   "outputs": [
    {
     "name": "stdout",
     "output_type": "stream",
     "text": [
      "SVC.\tTrain:0.9066\tTest:0.7783\n"
     ]
    }
   ],
   "source": [
    "# check out accuracy\n",
    "y_train_pred = svc_v1.predict(train_features)\n",
    "y_test_pred = svc_v1.predict(test_features)\n",
    "print(f\"SVC.\\tTrain:{f1_score(y_train, y_train_pred,average = 'macro'):.4f}\\tTest:{f1_score(y_test, y_test_pred,average = 'macro'):.4f}\")"
   ]
  },
  {
   "cell_type": "code",
   "execution_count": 26,
   "id": "17af9bf4",
   "metadata": {},
   "outputs": [
    {
     "data": {
      "image/png": "[encoded data removed]",
      "text/plain": [
       "<Figure size 432x288 with 2 Axes>"
      ]
     },
     "metadata": {
      "needs_background": "light"
     },
     "output_type": "display_data"
    }
   ],
   "source": [
    "from sklearn.metrics import confusion_matrix, ConfusionMatrixDisplay\n",
    "\n",
    "#y_test_pred = svc_v1.predict(test_features)\n",
    "cm = confusion_matrix(y_test, y_test_pred, labels=svc_v1.classes_)\n",
    "disp = ConfusionMatrixDisplay(confusion_matrix=cm, display_labels=svc_v1.classes_)\n",
    "disp.plot()\n",
    "plt.show()"
   ]
  },
  {
   "cell_type": "code",
   "execution_count": null,
   "id": "15a7f494",
   "metadata": {},
   "outputs": [],
   "source": []
  }
 ],
 "metadata": {
  "kernelspec": {
   "display_name": "Python 3 (ipykernel)",
   "language": "python",
   "name": "python3"
  },
  "language_info": {
   "codemirror_mode": {
    "name": "ipython",
    "version": 3
   },
   "file_extension": ".py",
   "mimetype": "text/x-python",
   "name": "python",
   "nbconvert_exporter": "python",
   "pygments_lexer": "ipython3",
   "version": "3.8.10"
  }
 },
 "nbformat": 4,
 "nbformat_minor": 5
}
