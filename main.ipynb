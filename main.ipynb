{
 "cells": [
  {
   "cell_type": "markdown",
   "id": "41b402d9",
   "metadata": {},
   "source": [
    "### Import Packages"
   ]
  },
  {
   "cell_type": "code",
   "execution_count": 12,
   "id": "a1e591ec",
   "metadata": {},
   "outputs": [],
   "source": [
    "import pandas as pd\n",
    "import numpy as np\n",
    "import matplotlib.pyplot as plt\n",
    "\n",
    "# tokenization\n",
    "from nltk.stem import WordNetLemmatizer\n",
    "from nltk.tokenize import regexp_tokenize\n",
    "from nltk.tokenize import TweetTokenizer\n",
    "from nltk.tokenize import word_tokenize\n",
    "\n",
    "# stopword removal\n",
    "import nltk\n",
    "import string\n",
    "import re\n",
    "from nltk.corpus import stopwords\n",
    "english_stopwords = stopwords.words(\"english\")\n",
    "\n",
    "# Vectorization/Preprocessing\n",
    "from sklearn.feature_extraction.text import TfidfVectorizer\n",
    "from sklearn.model_selection import train_test_split\n",
    "\n",
    "# Classifiers\n",
    "from sklearn.linear_model import RidgeClassifier\n",
    "from sklearn.model_selection import cross_val_score\n",
    "\n",
    "# metrics\n",
    "from sklearn.metrics import f1_score\n",
    "from sklearn.metrics import accuracy_score\n",
    "\n",
    "# Neural Networks\n",
    "import tensorflow \n",
    "from tensorflow.keras.models import Sequential \n",
    "from tensorflow.keras.layers import Dropout, Input, Dense \n",
    "from keras.utils.vis_utils import plot_model\n",
    "from tensorflow.python.framework.random_seed import set_random_seed\n",
    "\n",
    "\n",
    "datapath = 'data/'"
   ]
  },
  {
   "cell_type": "markdown",
   "id": "8804fabe",
   "metadata": {},
   "source": [
    "### Load Data"
   ]
  },
  {
   "cell_type": "code",
   "execution_count": 3,
   "id": "19d7211c",
   "metadata": {},
   "outputs": [],
   "source": [
    "data = pd.read_csv(datapath + 'disaster_train.csv', sep=',',)"
   ]
  },
  {
   "cell_type": "markdown",
   "id": "533b98eb",
   "metadata": {},
   "source": [
    "### Tokenize data\n",
    "\n",
    "we extract the text of the tweets as X vector and the transform them into a `tf-idf` (term-frequency times inverse document-frequency) matrix. \n",
    "\n",
    "__TODO__\n",
    "- At a later stage add location and keyword data to the feature matrix\n",
    "    - Problem: How do we addjust the weight of those, should they way as much as the occurence of one word or more?\n",
    "    "
   ]
  },
  {
   "cell_type": "code",
   "execution_count": 5,
   "id": "bc5e6971",
   "metadata": {
    "scrolled": true
   },
   "outputs": [
    {
     "data": {
      "text/plain": [
       "0    Our Deeds are the Reason of this #earthquake M...\n",
       "1               Forest fire near La Ronge Sask. Canada\n",
       "2    All residents asked to 'shelter in place' are ...\n",
       "3    13,000 people receive #wildfires evacuation or...\n",
       "4    Just got sent this photo from Ruby #Alaska as ...\n",
       "Name: text, dtype: object"
      ]
     },
     "execution_count": 5,
     "metadata": {},
     "output_type": "execute_result"
    }
   ],
   "source": [
    "# split feature vector and target vector\n",
    "Y_train = data[\"target\"].values \n",
    "X_train = data.values[:, 1:4]\n",
    "\n",
    "# Get only column with tweet text\n",
    "x_tweets = data['text']\n",
    "x_tweets.head()"
   ]
  },
  {
   "cell_type": "code",
   "execution_count": 6,
   "id": "a14b2be2",
   "metadata": {
    "scrolled": true
   },
   "outputs": [
    {
     "name": "stdout",
     "output_type": "stream",
     "text": [
      "[['our', 'deeds', 'are', 'the', 'reason', 'of', 'this', '#earthquake', 'may', 'allah', 'forgive', 'us', 'all'], ['forest', 'fire', 'near', 'la', 'ronge', 'sask', '.', 'canada']]\n"
     ]
    }
   ],
   "source": [
    "# Tweet tokenizer for making all alphabetical symbols lowercase, reducing length of words\n",
    "# if they are e.g. 'goaaaal' and for removing account handles\n",
    "tknzr = TweetTokenizer(preserve_case = False, strip_handles = True, reduce_len = True)\n",
    "tweet_tokens = []\n",
    "for sent in x_tweets:\n",
    "    #print(tweet_tokenizer.tokenize(sent))\n",
    "    tweet_tokens.append(tknzr.tokenize(sent))\n",
    "print(tweet_tokens[:2])"
   ]
  },
  {
   "cell_type": "code",
   "execution_count": 9,
   "id": "12137711",
   "metadata": {
    "scrolled": true
   },
   "outputs": [
    {
     "data": {
      "text/plain": [
       "[['deeds', 'reason', 'earthquake', 'may', 'allah', 'forgive', 'us'],\n",
       " ['forest', 'fire', 'near', 'la', 'ronge', 'sask', 'canada']]"
      ]
     },
     "execution_count": 9,
     "metadata": {},
     "output_type": "execute_result"
    }
   ],
   "source": [
    "# clean out stopwords, # signs, punctuation and numbers\n",
    "clean_t2 = [[word if (word.startswith('#') == False) else re.sub(r'#', '', word) for word in tweet] for tweet in tweet_tokens]\n",
    "clean_t3 = [[word for word in tweet if (word not in string.punctuation) and (word.isalpha() == True) and (word not in english_stopwords)] for tweet in clean_t2]\n",
    "clean_t3[:2]"
   ]
  },
  {
   "cell_type": "code",
   "execution_count": 11,
   "id": "31f7d6df",
   "metadata": {},
   "outputs": [
    {
     "data": {
      "text/plain": [
       "array(['deeds reason earthquake may allah forgive us',\n",
       "       'forest fire near la ronge sask canada'], dtype='<U138')"
      ]
     },
     "execution_count": 11,
     "metadata": {},
     "output_type": "execute_result"
    }
   ],
   "source": [
    "# Transform into correct input form for the Vectorizer\n",
    "clean_t4 = [' '.join(tweet) for tweet in clean_t3]\n",
    "x_tweets = np.array(clean_t4)\n",
    "x_tweets[:2]"
   ]
  },
  {
   "cell_type": "code",
   "execution_count": 17,
   "id": "33628ab4",
   "metadata": {},
   "outputs": [
    {
     "name": "stdout",
     "output_type": "stream",
     "text": [
      "vocabulary size: 12427\n"
     ]
    }
   ],
   "source": [
    "# split train and test set\n",
    "X_train, X_test, y_train, y_test = train_test_split(x_tweets, Y_train, test_size=0.15, random_state=42)\n",
    "\n",
    "# create tf-idf vectorizer\n",
    "tf_computer = TfidfVectorizer(use_idf=False, ngram_range=(1,1))\n",
    "\n",
    "# vectorize train and test set\n",
    "train_features = tf_computer.fit_transform(X_train)\n",
    "test_features = tf_computer.transform(X_test)\n",
    "\n",
    "print(\"vocabulary size:\", len(tf_computer.vocabulary_))"
   ]
  },
  {
   "cell_type": "markdown",
   "id": "a6101c86",
   "metadata": {},
   "source": [
    "# First naive try"
   ]
  },
  {
   "cell_type": "code",
   "execution_count": 18,
   "id": "ea3fda2b",
   "metadata": {},
   "outputs": [
    {
     "data": {
      "text/plain": [
       "array([0.7399651 , 0.73634204, 0.73012188])"
      ]
     },
     "execution_count": 18,
     "metadata": {},
     "output_type": "execute_result"
    }
   ],
   "source": [
    "# select a linear model based on the assumption that specific words (linearly) imply a real disaster or not\n",
    "# TODO: vary hpyerparameter alpha\n",
    "\n",
    "clf = RidgeClassifier()\n",
    "scores = cross_val_score(clf, train_features, y_train, cv=3, scoring=\"f1\")\n",
    "scores"
   ]
  },
  {
   "cell_type": "code",
   "execution_count": 19,
   "id": "c0436301",
   "metadata": {},
   "outputs": [
    {
     "name": "stdout",
     "output_type": "stream",
     "text": [
      "Train F1 score: 0.927\n",
      "Test F1 score: 0.749\n"
     ]
    }
   ],
   "source": [
    "clf.fit(train_features, y_train)\n",
    "y_train_pred = clf.predict(train_features)\n",
    "y_test_pred = clf.predict(test_features)\n",
    "\n",
    "\n",
    "print('Train F1 score:', np.round(f1_score(y_train, y_train_pred), 3))\n",
    "print('Test F1 score:', np.round(f1_score(y_test, y_test_pred), 3))"
   ]
  },
  {
   "cell_type": "markdown",
   "id": "13355d1e",
   "metadata": {},
   "source": [
    "This looks very much like overfitting"
   ]
  },
  {
   "cell_type": "markdown",
   "id": "e9127610",
   "metadata": {},
   "source": [
    "# Second (a bit less) naive try\n",
    "Lets try a neural network."
   ]
  },
  {
   "cell_type": "markdown",
   "id": "2540ddd1",
   "metadata": {},
   "source": [
    "### Create early stopping mechanism for NN"
   ]
  },
  {
   "cell_type": "code",
   "execution_count": 21,
   "id": "d441aa61",
   "metadata": {},
   "outputs": [],
   "source": [
    "from keras.callbacks import EarlyStopping\n",
    "\n",
    "# simple early stopping\n",
    "es = EarlyStopping(monitor='val_loss', #quantity to be monitored\n",
    "                   mode='min', #we look for decreasing patterns stop \n",
    "                   patience = 3, #number of epochs with no improvement\n",
    "                   verbose=1)\n",
    "\n",
    "np.random.seed(123)\n",
    "set_random_seed(2)"
   ]
  },
  {
   "cell_type": "code",
   "execution_count": 22,
   "id": "1c278300",
   "metadata": {},
   "outputs": [],
   "source": [
    "train_features_den = train_features.todense()\n",
    "feature_vector_length = train_features_den.shape[1]"
   ]
  },
  {
   "cell_type": "code",
   "execution_count": 23,
   "id": "6fa38b79",
   "metadata": {},
   "outputs": [
    {
     "name": "stderr",
     "output_type": "stream",
     "text": [
      "2022-01-07 11:43:00.451077: W tensorflow/stream_executor/platform/default/dso_loader.cc:64] Could not load dynamic library 'libcuda.so.1'; dlerror: libcuda.so.1: cannot open shared object file: No such file or directory\n",
      "2022-01-07 11:43:00.451113: W tensorflow/stream_executor/cuda/cuda_driver.cc:269] failed call to cuInit: UNKNOWN ERROR (303)\n",
      "2022-01-07 11:43:00.451141: I tensorflow/stream_executor/cuda/cuda_diagnostics.cc:156] kernel driver does not appear to be running on this host (siprius): /proc/driver/nvidia/version does not exist\n",
      "2022-01-07 11:43:00.451446: I tensorflow/core/platform/cpu_feature_guard.cc:151] This TensorFlow binary is optimized with oneAPI Deep Neural Network Library (oneDNN) to use the following CPU instructions in performance-critical operations:  AVX2 FMA\n",
      "To enable them in other operations, rebuild TensorFlow with the appropriate compiler flags.\n"
     ]
    },
    {
     "name": "stdout",
     "output_type": "stream",
     "text": [
      "Epoch 1/10\n",
      "162/162 - 2s - loss: 0.5422 - accuracy: 0.7276 - val_loss: 0.4805 - val_accuracy: 0.7722 - 2s/epoch - 12ms/step\n",
      "Epoch 2/10\n",
      "162/162 - 2s - loss: 0.2551 - accuracy: 0.9019 - val_loss: 0.5402 - val_accuracy: 0.7815 - 2s/epoch - 9ms/step\n",
      "Epoch 3/10\n",
      "162/162 - 1s - loss: 0.1275 - accuracy: 0.9525 - val_loss: 0.6548 - val_accuracy: 0.7807 - 1s/epoch - 9ms/step\n",
      "Epoch 4/10\n",
      "162/162 - 1s - loss: 0.0771 - accuracy: 0.9728 - val_loss: 0.7370 - val_accuracy: 0.7730 - 1s/epoch - 9ms/step\n",
      "Epoch 5/10\n",
      "162/162 - 1s - loss: 0.0572 - accuracy: 0.9772 - val_loss: 0.8320 - val_accuracy: 0.7668 - 1s/epoch - 9ms/step\n",
      "Epoch 6/10\n",
      "162/162 - 1s - loss: 0.0457 - accuracy: 0.9801 - val_loss: 0.9036 - val_accuracy: 0.7676 - 1s/epoch - 9ms/step\n",
      "Epoch 7/10\n",
      "162/162 - 1s - loss: 0.0390 - accuracy: 0.9832 - val_loss: 0.9872 - val_accuracy: 0.7683 - 1s/epoch - 9ms/step\n",
      "Epoch 8/10\n",
      "162/162 - 1s - loss: 0.0361 - accuracy: 0.9832 - val_loss: 1.0204 - val_accuracy: 0.7583 - 1s/epoch - 9ms/step\n",
      "Epoch 9/10\n",
      "162/162 - 1s - loss: 0.0353 - accuracy: 0.9828 - val_loss: 1.0331 - val_accuracy: 0.7653 - 1s/epoch - 9ms/step\n",
      "Epoch 10/10\n",
      "162/162 - 1s - loss: 0.0304 - accuracy: 0.9844 - val_loss: 1.1275 - val_accuracy: 0.7668 - 1s/epoch - 9ms/step\n"
     ]
    }
   ],
   "source": [
    "model = Sequential() #we first define how the \"model\" looks like\n",
    "model.add(Dense(input_dim = feature_vector_length, units=100 , activation='relu')) #input layer\n",
    "model.add(Dense(100, activation='relu'))\n",
    "model.add(Dense(2, activation='softmax')) #output layer\n",
    "\n",
    "# Configure the model and start training\n",
    "model.compile(loss='sparse_categorical_crossentropy', #loss metric\n",
    "    optimizer='adam',  #optimizer\n",
    "    metrics=['accuracy']) #displayed metric\n",
    "\n",
    "\n",
    "history = model.fit(train_features_den, y_train, epochs=10, verbose=2, validation_split=0.2)"
   ]
  },
  {
   "cell_type": "code",
   "execution_count": 24,
   "id": "ed1d9c1f",
   "metadata": {},
   "outputs": [
    {
     "data": {
      "image/png": "[encoded data removed]",
      "text/plain": [
       "<Figure size 432x288 with 1 Axes>"
      ]
     },
     "metadata": {
      "needs_background": "light"
     },
     "output_type": "display_data"
    },
    {
     "data": {
      "image/png": "[encoded data removed]",
      "text/plain": [
       "<Figure size 432x288 with 1 Axes>"
      ]
     },
     "metadata": {
      "needs_background": "light"
     },
     "output_type": "display_data"
    }
   ],
   "source": [
    "plt.plot(history.history['loss'])\n",
    "plt.plot(history.history['val_loss'])\n",
    "plt.title('model loss')\n",
    "plt.ylabel('loss')\n",
    "plt.xlabel('epoch')\n",
    "plt.legend(['train', 'val'], loc='upper left')\n",
    "plt.show()\n",
    "\n",
    "# summarize history for accuracy\n",
    "plt.plot(history.history['accuracy'])\n",
    "plt.plot(history.history['val_accuracy'])\n",
    "plt.title('model accuracy')\n",
    "plt.ylabel('accuracy')\n",
    "plt.xlabel('epoch')\n",
    "plt.legend(['train', 'val'], loc='upper left')\n",
    "# plt.ylim(0.8, 1)\n",
    "plt.show()\n"
   ]
  },
  {
   "cell_type": "code",
   "execution_count": 25,
   "id": "f525483f",
   "metadata": {},
   "outputs": [
    {
     "name": "stdout",
     "output_type": "stream",
     "text": [
      "203/203 [==============================] - 2s 9ms/step - loss: 0.1929 - accuracy: 0.9334\n",
      "Train F1 score: 0.927\n",
      "Test F1 score: 0.749\n"
     ]
    },
    {
     "name": "stderr",
     "output_type": "stream",
     "text": [
      "/home/jan/ds/ml/nlp-project/nlp-venv/lib/python3.8/site-packages/sklearn/utils/validation.py:593: FutureWarning: np.matrix usage is deprecated in 1.0 and will raise a TypeError in 1.2. Please convert to a numpy array with np.asarray. For more information see: https://numpy.org/doc/stable/reference/generated/numpy.matrix.html\n",
      "  warnings.warn(\n",
      "/home/jan/ds/ml/nlp-project/nlp-venv/lib/python3.8/site-packages/sklearn/utils/validation.py:593: FutureWarning: np.matrix usage is deprecated in 1.0 and will raise a TypeError in 1.2. Please convert to a numpy array with np.asarray. For more information see: https://numpy.org/doc/stable/reference/generated/numpy.matrix.html\n",
      "  warnings.warn(\n"
     ]
    }
   ],
   "source": [
    "model.fit(train_features_den, y_train)\n",
    "y_train_pred = clf.predict(train_features_den)\n",
    "y_test_pred = clf.predict(test_features.todense())\n",
    "\n",
    "\n",
    "print('Train F1 score:', np.round(f1_score(y_train, y_train_pred), 3))\n",
    "print('Test F1 score:', np.round(f1_score(y_test, y_test_pred), 3))"
   ]
  },
  {
   "cell_type": "code",
   "execution_count": 27,
   "id": "281e4aad",
   "metadata": {},
   "outputs": [
    {
     "name": "stdout",
     "output_type": "stream",
     "text": [
      "Train F1 score: 0.939\n",
      "Test F1 score: 0.795\n"
     ]
    }
   ],
   "source": [
    "print('Train F1 score:', np.round(accuracy_score(y_train, y_train_pred), 3))\n",
    "print('Test F1 score:', np.round(accuracy_score(y_test, y_test_pred), 3))"
   ]
  },
  {
   "cell_type": "markdown",
   "id": "6002d76c",
   "metadata": {},
   "source": [
    "The former model does not improve after the first few epochs, afterwards train and validation acc both only slightly fluctuate. The Train accuracy raises quickly over the first epochs up to 99.7% (epoch 9). The validation accuracy on the other hand slightly falls. This indicates that our model not really learns a lot. It becomes able to predict the training set very well, but the accuracy on the validattion set stays at the same level (overfitting)."
   ]
  },
  {
   "cell_type": "markdown",
   "id": "8482e917",
   "metadata": {},
   "source": [
    "### Model Variation\n",
    "\n",
    "In the following section we will try out different architectures for our model. To do so we will vary the activation function and the depth of the model."
   ]
  },
  {
   "cell_type": "code",
   "execution_count": 28,
   "id": "e70ce2c1",
   "metadata": {},
   "outputs": [],
   "source": [
    "#  the function can be used in a loop to define several models\n",
    "\n",
    "def MLP_definer(n_layers, n_features, n_classes, activation_f):\n",
    "    \n",
    "    model = Sequential()\n",
    "    model.add(Dense(input_dim = n_features, units=500, activation=activation_f))\n",
    "    for i in range(1, n_layers):\n",
    "        model.add(Dense(units=500-10*i^2, activation=activation_f))\n",
    "        \n",
    "    model.add(Dense(units=n_classes, activation='softmax'))\n",
    "    return model"
   ]
  },
  {
   "cell_type": "code",
   "execution_count": null,
   "id": "de15b7ce",
   "metadata": {},
   "outputs": [
    {
     "name": "stdout",
     "output_type": "stream",
     "text": [
      "Activation function: relu\n",
      "Epoch 00004: early stopping\n",
      "Number of layers: 2 \n",
      "Train Acc: 0.9793941974639893 \n",
      "Test Acc:  0.7700865268707275\n",
      "Epoch 00004: early stopping\n",
      "Number of layers: 3 \n",
      "Train Acc: 0.9779517650604248 \n",
      "Test Acc:  0.7688504457473755\n",
      "Epoch 00004: early stopping\n",
      "Number of layers: 4 \n",
      "Train Acc: 0.9775396585464478 \n",
      "Test Acc:  0.7719406485557556\n",
      "Epoch 00004: early stopping\n",
      "Number of layers: 5 \n",
      "Train Acc: 0.9765093922615051 \n",
      "Test Acc:  0.7663782238960266\n",
      "Epoch 00004: early stopping\n",
      "Number of layers: 6 \n",
      "Train Acc: 0.9713579416275024 \n",
      "Test Acc:  0.7639060616493225\n",
      "Activation function: sigmoid\n",
      "Epoch 00005: early stopping\n",
      "Number of layers: 2 \n",
      "Train Acc: 0.9509581923484802 \n",
      "Test Acc:  0.7805933356285095\n",
      "Epoch 00005: early stopping\n",
      "Number of layers: 3 \n",
      "Train Acc: 0.943952202796936 \n",
      "Test Acc:  0.7775030732154846\n"
     ]
    }
   ],
   "source": [
    "out = {}\n",
    "for fun in ('relu', 'sigmoid'):\n",
    "    print(f'Activation function: {fun}')\n",
    "    for i in range(2,7):    \n",
    "        model = MLP_definer(i, n_features=feature_vector_length, n_classes=2, activation_f=fun)\n",
    "        model.compile(\n",
    "            loss='sparse_categorical_crossentropy',\n",
    "            optimizer='adam',\n",
    "            metrics='accuracy'\n",
    "        )\n",
    "        history = model.fit(train_features_den, y_train, batch_size=16, epochs=500, validation_split=0.25, verbose=0, callbacks=[es])\n",
    "        out[i] = [history.history['accuracy'][-1],  history.history['val_accuracy'][-1]]\n",
    "        print(f'Number of layers: {i} \\nTrain Acc: {history.history[\"accuracy\"][-1]} \\nTest Acc:  {history.history[\"val_accuracy\"][-1]}')"
   ]
  },
  {
   "cell_type": "code",
   "execution_count": null,
   "id": "9deadda6",
   "metadata": {},
   "outputs": [],
   "source": []
  }
 ],
 "metadata": {
  "kernelspec": {
   "display_name": "Python 3 (ipykernel)",
   "language": "python",
   "name": "python3"
  },
  "language_info": {
   "codemirror_mode": {
    "name": "ipython",
    "version": 3
   },
   "file_extension": ".py",
   "mimetype": "text/x-python",
   "name": "python",
   "nbconvert_exporter": "python",
   "pygments_lexer": "ipython3",
   "version": "3.8.10"
  }
 },
 "nbformat": 4,
 "nbformat_minor": 5
}
