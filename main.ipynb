{
 "cells": [
  {
   "cell_type": "markdown",
   "id": "41b402d9",
   "metadata": {},
   "source": [
    "### Import Packages"
   ]
  },
  {
   "cell_type": "code",
   "execution_count": 1,
   "id": "a1e591ec",
   "metadata": {},
   "outputs": [],
   "source": [
    "import pandas as pd\n",
    "import numpy as np\n",
    "\n",
    "datapath = 'data/'"
   ]
  },
  {
   "cell_type": "markdown",
   "id": "8804fabe",
   "metadata": {},
   "source": [
    "### Load Data"
   ]
  },
  {
   "cell_type": "code",
   "execution_count": 2,
   "id": "19d7211c",
   "metadata": {},
   "outputs": [],
   "source": [
    "data = pd.read_csv(datapath + 'disaster_train.csv', sep=',',)"
   ]
  },
  {
   "cell_type": "markdown",
   "id": "533b98eb",
   "metadata": {},
   "source": [
    "### Transfrom data\n",
    "\n",
    "we extract the text of the tweets as X vector and the transform them into a `tf-idf` (term-frequency times inverse document-frequency) matrix. \n",
    "\n",
    "__TODO__\n",
    "- At a later stage add location and keyword data to the feature matrix\n",
    "    - Problem: How do we addjust the weight of those, should they way as much as the occurence of one word or more?\n",
    "    "
   ]
  },
  {
   "cell_type": "code",
   "execution_count": 7,
   "id": "a24420e0",
   "metadata": {},
   "outputs": [
    {
     "name": "stdout",
     "output_type": "stream",
     "text": [
      "vocabulary size: 19097\n"
     ]
    }
   ],
   "source": [
    "import random\n",
    "from sklearn.feature_extraction.text import TfidfVectorizer\n",
    "from sklearn.model_selection import train_test_split\n",
    "\n",
    "X = data['text']\n",
    "y = data['target']\n",
    "\n",
    "X_train, X_test, y_train, y_test = train_test_split(X, y, test_size=0.15, random_state=42)\n",
    "\n",
    "# the function TfidfVectorizer transforms our data in a sparse feature matrix. Every feature is the td-idf of a n-gram. The sizes of the \n",
    "# n-grams are set by our argument ngram_range.\n",
    "# with the argument stopwords we can remove words that typically occur often but do not give any information (i.e. and, a, ...)\n",
    "tf_computer = TfidfVectorizer(use_idf=False, ngram_range=(1,1), stop_words='english')\n",
    "\n",
    "train_features = tf_computer.fit_transform(X_train)\n",
    "test_features = tf_computer.transform(X_test)\n",
    "\n",
    "print(\"vocabulary size:\", len(tf_computer.vocabulary_))\n"
   ]
  },
  {
   "cell_type": "code",
   "execution_count": 8,
   "id": "851a0462",
   "metadata": {},
   "outputs": [
    {
     "data": {
      "text/plain": [
       "5.666125569461172"
      ]
     },
     "execution_count": 8,
     "metadata": {},
     "output_type": "execute_result"
    }
   ],
   "source": [
    "108206/19097"
   ]
  },
  {
   "cell_type": "markdown",
   "id": "a6101c86",
   "metadata": {},
   "source": [
    "# First naive try"
   ]
  },
  {
   "cell_type": "code",
   "execution_count": 16,
   "id": "ea3fda2b",
   "metadata": {},
   "outputs": [
    {
     "data": {
      "text/plain": [
       "array([0.73647059, 0.7452381 , 0.73079179])"
      ]
     },
     "execution_count": 16,
     "metadata": {},
     "output_type": "execute_result"
    }
   ],
   "source": [
    "# select a linear model based on the assumption that specific words (linearly) imply a real disaster or not\n",
    "\n",
    "from sklearn.linear_model import RidgeClassifier\n",
    "from sklearn.model_selection import cross_val_score\n",
    "from sklearn.metrics import f1_score\n",
    "\n",
    "# TODO: vary hpyerparameter alpha\n",
    "\n",
    "clf = RidgeClassifier()\n",
    "scores = cross_val_score(clf, train_features, y_train, cv=3, scoring=\"f1\")\n",
    "scores"
   ]
  },
  {
   "cell_type": "code",
   "execution_count": 10,
   "id": "c0436301",
   "metadata": {},
   "outputs": [
    {
     "name": "stdout",
     "output_type": "stream",
     "text": [
      "Train F1 score: 0.945\n",
      "Test F1 score: 0.744\n"
     ]
    }
   ],
   "source": [
    "clf.fit(train_features, y_train)\n",
    "y_train_pred = clf.predict(train_features)\n",
    "y_test_pred = clf.predict(test_features)\n",
    "\n",
    "\n",
    "print('Train F1 score:', np.round(f1_score(y_train, y_train_pred), 3))\n",
    "print('Test F1 score:', np.round(f1_score(y_test, y_test_pred), 3))"
   ]
  },
  {
   "cell_type": "markdown",
   "id": "13355d1e",
   "metadata": {},
   "source": [
    "This looks very much like overfitting"
   ]
  },
  {
   "cell_type": "markdown",
   "id": "e9127610",
   "metadata": {},
   "source": [
    "# Second (a bit less) naive try\n",
    "Lets try a neural network."
   ]
  },
  {
   "cell_type": "markdown",
   "id": "5c747c59",
   "metadata": {},
   "source": [
    "Get some ideas [here](https://medium.com/@datamonsters/artificial-neural-networks-for-natural-language-processing-part-1-64ca9ebfa3b2)"
   ]
  },
  {
   "cell_type": "markdown",
   "id": "1519d3ce",
   "metadata": {},
   "source": [
    "### Load packages"
   ]
  },
  {
   "cell_type": "code",
   "execution_count": 11,
   "id": "082c094f",
   "metadata": {},
   "outputs": [
    {
     "name": "stderr",
     "output_type": "stream",
     "text": [
      "2022-01-05 16:35:44.375932: W tensorflow/stream_executor/platform/default/dso_loader.cc:64] Could not load dynamic library 'libcudart.so.11.0'; dlerror: libcudart.so.11.0: cannot open shared object file: No such file or directory\n",
      "2022-01-05 16:35:44.375961: I tensorflow/stream_executor/cuda/cudart_stub.cc:29] Ignore above cudart dlerror if you do not have a GPU set up on your machine.\n"
     ]
    }
   ],
   "source": [
    "import tensorflow #the backend used by Keras (there are different beckend)\n",
    "from tensorflow.keras.models import Sequential #import the type of mpdel: sequential (e.g., MLP)\n",
    "from tensorflow.keras.layers import Dropout, Input, Dense #simple linear layer\n",
    "from tensorflow.keras.utils import to_categorical # transformation for classification labels\n",
    "from keras.utils.vis_utils import plot_model\n",
    "from tensorflow.python.framework.random_seed import set_random_seed\n",
    "import matplotlib.pyplot as plt"
   ]
  },
  {
   "cell_type": "markdown",
   "id": "2540ddd1",
   "metadata": {},
   "source": [
    "### Create early stopping mechanism for NN"
   ]
  },
  {
   "cell_type": "code",
   "execution_count": 12,
   "id": "d441aa61",
   "metadata": {},
   "outputs": [],
   "source": [
    "from keras.callbacks import EarlyStopping\n",
    "\n",
    "# simple early stopping\n",
    "es = EarlyStopping(monitor='val_loss', #quantity to be monitored\n",
    "                   mode='min', #we look for decreasing patterns stop \n",
    "                   patience = 3, #number of epochs with no improvement\n",
    "                   verbose=1)\n",
    "\n",
    "np.random.seed(123)\n",
    "set_random_seed(2)"
   ]
  },
  {
   "cell_type": "code",
   "execution_count": 13,
   "id": "1c278300",
   "metadata": {},
   "outputs": [],
   "source": [
    "train_features_den = train_features.todense()"
   ]
  },
  {
   "cell_type": "code",
   "execution_count": 14,
   "id": "91dde7e1",
   "metadata": {},
   "outputs": [
    {
     "data": {
      "text/plain": [
       "(6471, 19097)"
      ]
     },
     "execution_count": 14,
     "metadata": {},
     "output_type": "execute_result"
    }
   ],
   "source": [
    "train_features_den.shape"
   ]
  },
  {
   "cell_type": "code",
   "execution_count": 15,
   "id": "9c5cf61f",
   "metadata": {},
   "outputs": [
    {
     "name": "stderr",
     "output_type": "stream",
     "text": [
      "2022-01-05 16:36:02.945216: W tensorflow/stream_executor/platform/default/dso_loader.cc:64] Could not load dynamic library 'libcuda.so.1'; dlerror: libcuda.so.1: cannot open shared object file: No such file or directory\n",
      "2022-01-05 16:36:02.945234: W tensorflow/stream_executor/cuda/cuda_driver.cc:269] failed call to cuInit: UNKNOWN ERROR (303)\n",
      "2022-01-05 16:36:02.945246: I tensorflow/stream_executor/cuda/cuda_diagnostics.cc:156] kernel driver does not appear to be running on this host (siprius): /proc/driver/nvidia/version does not exist\n",
      "2022-01-05 16:36:02.945428: I tensorflow/core/platform/cpu_feature_guard.cc:151] This TensorFlow binary is optimized with oneAPI Deep Neural Network Library (oneDNN) to use the following CPU instructions in performance-critical operations:  AVX2 FMA\n",
      "To enable them in other operations, rebuild TensorFlow with the appropriate compiler flags.\n"
     ]
    },
    {
     "name": "stdout",
     "output_type": "stream",
     "text": [
      "Epoch 1/10\n",
      "203/203 - 4s - loss: 0.5269 - accuracy: 0.7373 - 4s/epoch - 18ms/step\n",
      "Epoch 2/10\n",
      "203/203 - 3s - loss: 0.2275 - accuracy: 0.9124 - 3s/epoch - 17ms/step\n",
      "Epoch 3/10\n",
      "203/203 - 3s - loss: 0.0815 - accuracy: 0.9685 - 3s/epoch - 16ms/step\n",
      "Epoch 4/10\n",
      "203/203 - 3s - loss: 0.0430 - accuracy: 0.9839 - 3s/epoch - 16ms/step\n",
      "Epoch 5/10\n",
      "203/203 - 3s - loss: 0.0258 - accuracy: 0.9896 - 3s/epoch - 17ms/step\n",
      "Epoch 6/10\n",
      "203/203 - 3s - loss: 0.0185 - accuracy: 0.9929 - 3s/epoch - 17ms/step\n",
      "Epoch 7/10\n",
      "203/203 - 3s - loss: 0.0143 - accuracy: 0.9946 - 3s/epoch - 16ms/step\n",
      "Epoch 8/10\n",
      "203/203 - 3s - loss: 0.0104 - accuracy: 0.9954 - 3s/epoch - 16ms/step\n",
      "Epoch 9/10\n",
      "203/203 - 3s - loss: 0.0109 - accuracy: 0.9960 - 3s/epoch - 16ms/step\n",
      "Epoch 10/10\n",
      "203/203 - 3s - loss: 0.0094 - accuracy: 0.9958 - 3s/epoch - 16ms/step\n"
     ]
    }
   ],
   "source": [
    "feature_vector_length = train_features_den.shape[1]\n",
    "\n",
    "model = Sequential() #we first define how the \"model\" looks like\n",
    "model.add(Dense(input_dim = feature_vector_length, units=100 , activation='relu')) #input layer\n",
    "model.add(Dense(100, activation='relu'))\n",
    "model.add(Dense(2, activation='softmax')) #output layer\n",
    "\n",
    "# Configure the model and start training\n",
    "model.compile(loss='sparse_categorical_crossentropy', #loss metric\n",
    "    optimizer='adam',  #optimizer\n",
    "    metrics=['accuracy']) #displayed metric\n",
    "\n",
    "\n",
    "history = model.fit(train_features_den, y_train, epochs=10, verbose=2)"
   ]
  },
  {
   "cell_type": "code",
   "execution_count": 104,
   "id": "ed1d9c1f",
   "metadata": {},
   "outputs": [
    {
     "data": {
      "image/png": "[encoded data removed]",
      "text/plain": [
       "<Figure size 432x288 with 1 Axes>"
      ]
     },
     "metadata": {
      "needs_background": "light"
     },
     "output_type": "display_data"
    },
    {
     "data": {
      "text/plain": [
       "<matplotlib.legend.Legend at 0x7f5900f19610>"
      ]
     },
     "execution_count": 104,
     "metadata": {},
     "output_type": "execute_result"
    },
    {
     "data": {
      "image/png": "[encoded data removed]",
      "text/plain": [
       "<Figure size 432x288 with 1 Axes>"
      ]
     },
     "metadata": {
      "needs_background": "light"
     },
     "output_type": "display_data"
    }
   ],
   "source": [
    "plt.plot(history.history['loss'])\n",
    "plt.title('model loss')\n",
    "plt.ylabel('loss')\n",
    "plt.xlabel('epoch')\n",
    "plt.ylim(0, 1)\n",
    "plt.show()\n",
    "\n",
    "plt.plot(history.history['accuracy'], label='train')\n",
    "plt.xlabel('Epochs')\n",
    "plt.ylabel('Accuracy')\n",
    "plt.legend()\n"
   ]
  },
  {
   "cell_type": "code",
   "execution_count": 106,
   "id": "f525483f",
   "metadata": {},
   "outputs": [
    {
     "name": "stderr",
     "output_type": "stream",
     "text": [
      "2022-01-03 17:34:52.733115: W tensorflow/core/framework/cpu_allocator_impl.cc:82] Allocation of 2800804104 exceeds 10% of free system memory.\n"
     ]
    },
    {
     "name": "stdout",
     "output_type": "stream",
     "text": [
      "203/203 [==============================] - 17s 82ms/step - loss: 0.0073 - accuracy: 0.9960\n"
     ]
    },
    {
     "name": "stderr",
     "output_type": "stream",
     "text": [
      "/home/jan/ds/ml/nlp-project/nlp-venv/lib/python3.8/site-packages/sklearn/utils/validation.py:593: FutureWarning: np.matrix usage is deprecated in 1.0 and will raise a TypeError in 1.2. Please convert to a numpy array with np.asarray. For more information see: https://numpy.org/doc/stable/reference/generated/numpy.matrix.html\n",
      "  warnings.warn(\n",
      "/home/jan/ds/ml/nlp-project/nlp-venv/lib/python3.8/site-packages/sklearn/utils/validation.py:593: FutureWarning: np.matrix usage is deprecated in 1.0 and will raise a TypeError in 1.2. Please convert to a numpy array with np.asarray. For more information see: https://numpy.org/doc/stable/reference/generated/numpy.matrix.html\n",
      "  warnings.warn(\n"
     ]
    },
    {
     "name": "stdout",
     "output_type": "stream",
     "text": [
      "Train F1 score: 0.985\n",
      "Test F1 score: 0.727\n"
     ]
    }
   ],
   "source": [
    "model.fit(train_features_den, y_train)\n",
    "y_train_pred = clf.predict(train_features_den)\n",
    "y_test_pred = clf.predict(test_features.todense())\n",
    "\n",
    "\n",
    "print('Train F1 score:', np.round(f1_score(y_train, y_train_pred), 3))\n",
    "print('Test F1 score:', np.round(f1_score(y_test, y_test_pred), 3))"
   ]
  },
  {
   "cell_type": "code",
   "execution_count": 17,
   "id": "281e4aad",
   "metadata": {},
   "outputs": [
    {
     "name": "stdout",
     "output_type": "stream",
     "text": [
      "Train F1 score: 0.954\n",
      "Test F1 score: 0.79\n"
     ]
    }
   ],
   "source": [
    "from sklearn.metrics import accuracy_score\n",
    "\n",
    "print('Train F1 score:', np.round(accuracy_score(y_train, y_train_pred), 3))\n",
    "print('Test F1 score:', np.round(accuracy_score(y_test, y_test_pred), 3))"
   ]
  },
  {
   "cell_type": "code",
   "execution_count": null,
   "id": "e0bfb442",
   "metadata": {},
   "outputs": [],
   "source": []
  }
 ],
 "metadata": {
  "kernelspec": {
   "display_name": "Python 3 (ipykernel)",
   "language": "python",
   "name": "python3"
  },
  "language_info": {
   "codemirror_mode": {
    "name": "ipython",
    "version": 3
   },
   "file_extension": ".py",
   "mimetype": "text/x-python",
   "name": "python",
   "nbconvert_exporter": "python",
   "pygments_lexer": "ipython3",
   "version": "3.8.10"
  }
 },
 "nbformat": 4,
 "nbformat_minor": 5
}
