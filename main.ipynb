{
 "cells": [
  {
   "cell_type": "markdown",
   "id": "84d777ab",
   "metadata": {},
   "source": [
    "### Import Packages"
   ]
  },
  {
   "cell_type": "code",
   "execution_count": 1,
   "id": "de0212ab",
   "metadata": {},
   "outputs": [
    {
     "name": "stderr",
     "output_type": "stream",
     "text": [
      "2022-01-22 18:19:57.765395: W tensorflow/stream_executor/platform/default/dso_loader.cc:64] Could not load dynamic library 'libcudart.so.11.0'; dlerror: libcudart.so.11.0: cannot open shared object file: No such file or directory\n",
      "2022-01-22 18:19:57.765435: I tensorflow/stream_executor/cuda/cudart_stub.cc:29] Ignore above cudart dlerror if you do not have a GPU set up on your machine.\n"
     ]
    }
   ],
   "source": [
    "import pandas as pd\n",
    "import numpy as np\n",
    "import matplotlib.pyplot as plt\n",
    "from scipy.sparse import hstack\n",
    "\n",
    "# tokenization\n",
    "from nltk.stem import WordNetLemmatizer\n",
    "from nltk.tokenize import regexp_tokenize\n",
    "from nltk.tokenize import TweetTokenizer\n",
    "from nltk.tokenize import word_tokenize\n",
    "\n",
    "# stopword removal\n",
    "import nltk\n",
    "import string\n",
    "import re\n",
    "from nltk.corpus import stopwords\n",
    "english_stopwords = stopwords.words(\"english\")\n",
    "\n",
    "# Vectorization/Preprocessing\n",
    "from sklearn.feature_extraction.text import TfidfVectorizer\n",
    "from sklearn.model_selection import train_test_split\n",
    "from tensorflow.keras.utils import to_categorical\n",
    "\n",
    "# Classifiers\n",
    "from sklearn.svm import SVC\n",
    "from sklearn.linear_model import RidgeClassifier\n",
    "from sklearn.ensemble import RandomForestClassifier\n",
    "from sklearn.linear_model import LogisticRegression\n",
    "from sklearn.ensemble import StackingClassifier\n",
    "\n",
    "from sklearn.model_selection import cross_validate\n",
    "from sklearn.model_selection import GridSearchCV\n",
    "\n",
    "# metrics\n",
    "from sklearn.metrics import f1_score\n",
    "from sklearn.metrics import accuracy_score\n",
    "from sklearn.metrics import confusion_matrix, ConfusionMatrixDisplay\n",
    "\n",
    "# Neural Networks\n",
    "import tensorflow as tf \n",
    "from tensorflow.keras.models import Sequential \n",
    "from tensorflow.keras.layers import Dropout, Input, Dense \n",
    "from keras.utils.vis_utils import plot_model\n",
    "from keras.callbacks import EarlyStopping\n",
    "from tensorflow.python.framework.random_seed import set_random_seed\n",
    "\n",
    "\n",
    "datapath = 'data/'"
   ]
  },
  {
   "cell_type": "markdown",
   "id": "27dd5970",
   "metadata": {},
   "source": [
    "### Load Data"
   ]
  },
  {
   "cell_type": "code",
   "execution_count": 2,
   "id": "ec4b36cf",
   "metadata": {},
   "outputs": [],
   "source": [
    "data = pd.read_csv(datapath + 'disaster_train.csv', sep=',',)"
   ]
  },
  {
   "cell_type": "code",
   "execution_count": null,
   "id": "f348b05d",
   "metadata": {},
   "outputs": [],
   "source": []
  },
  {
   "cell_type": "markdown",
   "id": "d48baa31",
   "metadata": {},
   "source": [
    "### Descriptives"
   ]
  },
  {
   "cell_type": "code",
   "execution_count": 3,
   "id": "ac00cfe7",
   "metadata": {},
   "outputs": [
    {
     "name": "stdout",
     "output_type": "stream",
     "text": [
      "Missing keywords: 61\n",
      "Missing locations: 2533\n"
     ]
    }
   ],
   "source": [
    "print('Missing keywords:', sum(data['keyword'].isna()))\n",
    "print('Missing locations:', sum(data['location'].isna()))"
   ]
  },
  {
   "cell_type": "markdown",
   "id": "5f70c8e2",
   "metadata": {},
   "source": [
    "Out of those 7613 61 do not have a keyword an 2533 do not have a location\n"
   ]
  },
  {
   "cell_type": "code",
   "execution_count": 4,
   "id": "0a4c07e3",
   "metadata": {
    "scrolled": true
   },
   "outputs": [
    {
     "name": "stdout",
     "output_type": "stream",
     "text": [
      "        keyword  location  count  location_ratio\n",
      "target                                          \n",
      "0            19      1458   4342        0.335790\n",
      "1            42      1075   3271        0.328646\n"
     ]
    }
   ],
   "source": [
    "data_bool = data.copy().loc[:, 'keyword':'target']\n",
    "data_bool['keyword'] = data_bool['keyword'].isna()\n",
    "data_bool['location'] = data_bool['location'].isna()\n",
    "data_bool['count'] = np.ones(data.shape[0], dtype=int)\n",
    "\n",
    "summ = data_bool.groupby('target').sum()\n",
    "summ['location_ratio'] = summ['location']/summ['count']\n",
    "print(summ)"
   ]
  },
  {
   "cell_type": "markdown",
   "id": "8aacb384",
   "metadata": {},
   "source": [
    "Grouping by target, there are 4342 fake tweets (target: 0) and 3271 real tweets (target: 1). The ratio of missing locations is similar, the amount of missing keyqwords is negligibly different. "
   ]
  },
  {
   "cell_type": "code",
   "execution_count": null,
   "id": "3495790a",
   "metadata": {},
   "outputs": [],
   "source": []
  },
  {
   "cell_type": "markdown",
   "id": "0a1b9c23",
   "metadata": {},
   "source": [
    "### Tokenize data\n",
    "\n",
    "we extract the text of the tweets as X vector and the transform them into a `tf-idf` (term-frequency times inverse document-frequency) matrix. \n"
   ]
  },
  {
   "cell_type": "code",
   "execution_count": 5,
   "id": "c986ec1f",
   "metadata": {
    "scrolled": true
   },
   "outputs": [
    {
     "name": "stdout",
     "output_type": "stream",
     "text": [
      "0    nan\n",
      "1    nan\n",
      "2    nan\n",
      "3    nan\n",
      "4    nan\n",
      "Name: keyword, dtype: object\n",
      "0    Our Deeds are the Reason of this #earthquake M...\n",
      "1               Forest fire near La Ronge Sask. Canada\n",
      "2    All residents asked to 'shelter in place' are ...\n",
      "3    13,000 people receive #wildfires evacuation or...\n",
      "4    Just got sent this photo from Ruby #Alaska as ...\n",
      "Name: text, dtype: object\n"
     ]
    }
   ],
   "source": [
    "# split feature vector and target vector\n",
    "Y = data[\"target\"].values \n",
    "X = data.values[:, 1:4]\n",
    "\n",
    "# Get only column with tweet text and keywords\n",
    "x_tweets = data['text']\n",
    "x_keywords = data['keyword'].fillna('nan')\n",
    "print(x_keywords.head())\n",
    "print(x_tweets.head())"
   ]
  },
  {
   "cell_type": "code",
   "execution_count": 6,
   "id": "90930ff3",
   "metadata": {
    "scrolled": true
   },
   "outputs": [
    {
     "name": "stdout",
     "output_type": "stream",
     "text": [
      "[['our', 'deeds', 'are', 'the', 'reason', 'of', 'this', '#earthquake', 'may', 'allah', 'forgive', 'us', 'all'], ['forest', 'fire', 'near', 'la', 'ronge', 'sask', '.', 'canada']]\n"
     ]
    }
   ],
   "source": [
    "# Tweet tokenizer for making all alphabetical symbols lowercase, reducing length of words\n",
    "# if they are e.g. 'goaaaal' and for removing account handles\n",
    "tknzr = TweetTokenizer(preserve_case = False, strip_handles = True, reduce_len = True)\n",
    "tweet_tokens = []\n",
    "for sent in x_tweets:\n",
    "    #print(tweet_tokenizer.tokenize(sent))\n",
    "    tweet_tokens.append(tknzr.tokenize(sent))\n",
    "print(tweet_tokens[:2])"
   ]
  },
  {
   "cell_type": "code",
   "execution_count": 7,
   "id": "32694a28",
   "metadata": {
    "scrolled": true
   },
   "outputs": [
    {
     "data": {
      "text/plain": [
       "[['deeds', 'reason', 'earthquake', 'may', 'allah', 'forgive', 'us'],\n",
       " ['forest', 'fire', 'near', 'la', 'ronge', 'sask', 'canada']]"
      ]
     },
     "execution_count": 7,
     "metadata": {},
     "output_type": "execute_result"
    }
   ],
   "source": [
    "# clean out stopwords, # signs, punctuation and numbers\n",
    "clean_t2 = [[word if (word.startswith('#') == False) else re.sub(r'#', '', word) for word in tweet] for tweet in tweet_tokens]\n",
    "clean_t3 = [[word for word in tweet if (word not in string.punctuation) and (word.isalpha() == True) and (word not in english_stopwords)] for tweet in clean_t2]\n",
    "clean_t3[:2]"
   ]
  },
  {
   "cell_type": "code",
   "execution_count": 8,
   "id": "f41ac2ce",
   "metadata": {},
   "outputs": [
    {
     "data": {
      "text/plain": [
       "array(['deeds reason earthquake may allah forgive us',\n",
       "       'forest fire near la ronge sask canada'], dtype='<U138')"
      ]
     },
     "execution_count": 8,
     "metadata": {},
     "output_type": "execute_result"
    }
   ],
   "source": [
    "# Transform into correct input form for the Vectorizer\n",
    "clean_t4 = [' '.join(tweet) for tweet in clean_t3]\n",
    "x_tweets = np.array(clean_t4)\n",
    "x_tweets[:2]"
   ]
  },
  {
   "cell_type": "code",
   "execution_count": 9,
   "id": "324439b8",
   "metadata": {},
   "outputs": [],
   "source": [
    "# stack preprocessed tweets and keywords back together\n",
    "x_tweets_keywords = np.stack((x_tweets, x_keywords), axis=1)"
   ]
  },
  {
   "cell_type": "code",
   "execution_count": 10,
   "id": "70c3269c",
   "metadata": {},
   "outputs": [
    {
     "name": "stdout",
     "output_type": "stream",
     "text": [
      "vocabulary size tweets: 48914\n",
      "vocabulary size keywords: 277\n"
     ]
    }
   ],
   "source": [
    "# split train and test set\n",
    "X_train, X_test, y_train, y_test = train_test_split(x_tweets_keywords, Y, test_size=0.15, random_state=42, shuffle=True)\n",
    "\n",
    "# create tf-idf vectorizer\n",
    "tf_computer = TfidfVectorizer(use_idf=True, ngram_range=(1,2))\n",
    "\n",
    "# vectorize train and test set\n",
    "train_features_tweets = tf_computer.fit_transform(X_train[:, 0])\n",
    "test_features_tweets = tf_computer.transform(X_test[:, 0])\n",
    "print(\"vocabulary size tweets:\", len(tf_computer.vocabulary_))\n",
    "\n",
    "train_features_keywords = tf_computer.fit_transform(X_train[:, 1])\n",
    "test_features_keywords = tf_computer.transform(X_test[:, 1])\n",
    "print(\"vocabulary size keywords:\", len(tf_computer.vocabulary_))\n",
    "\n",
    "# stack features together\n",
    "train_features = hstack((train_features_tweets, train_features_keywords))\n",
    "test_features = hstack((test_features_tweets, test_features_keywords))"
   ]
  },
  {
   "cell_type": "code",
   "execution_count": null,
   "id": "41571ba8",
   "metadata": {},
   "outputs": [],
   "source": []
  },
  {
   "cell_type": "code",
   "execution_count": null,
   "id": "72118a52",
   "metadata": {},
   "outputs": [],
   "source": []
  },
  {
   "cell_type": "code",
   "execution_count": null,
   "id": "3a848ae2",
   "metadata": {},
   "outputs": [],
   "source": []
  },
  {
   "cell_type": "markdown",
   "id": "4fa86079",
   "metadata": {},
   "source": [
    "# Linear Classifiers\n",
    "In the following we are going to try out different Linear Classifiers provided by sklearn. For each of those we will perform a gridsearch on the main parameters and print out the F1 score for the best fit. Following we will use the different simple classifiers to build one ensemle classifier."
   ]
  },
  {
   "cell_type": "code",
   "execution_count": 11,
   "id": "9a23f879",
   "metadata": {},
   "outputs": [],
   "source": [
    "# crreate dataframe to save results of the different classifiers to\n",
    "results = pd.DataFrame({\n",
    "    'model': [],\n",
    "    'f1_train': [],\n",
    "    'f1_test': []\n",
    "})"
   ]
  },
  {
   "cell_type": "markdown",
   "id": "3d9a9e52",
   "metadata": {},
   "source": [
    "### Logistic Regression"
   ]
  },
  {
   "cell_type": "code",
   "execution_count": 12,
   "id": "ad77fd99",
   "metadata": {},
   "outputs": [
    {
     "name": "stdout",
     "output_type": "stream",
     "text": [
      "{'C': 10}\n",
      "0.7892135367869526\n",
      "Logistic Regression: \tTrain:0.9840\tTest:0.7810\n"
     ]
    }
   ],
   "source": [
    "# define grid search parameters \n",
    "logreg_params = {\n",
    "    'C': [0.5, 1, 5, 10, 100, 500],\n",
    "}\n",
    "\n",
    "clf = LogisticRegression(random_state=42, max_iter=1000)\n",
    "clf_grid_logreg = GridSearchCV(estimator=clf, param_grid=logreg_params, cv = 5, n_jobs=-1)\n",
    "clf_grid_logreg.fit(train_features, y_train) \n",
    "\n",
    "#see the best parameters and performance\n",
    "print(clf_grid_logreg.best_params_)\n",
    "print(clf_grid_logreg.best_score_)\n",
    "\n",
    "# check the f1 score\n",
    "y_train_pred = clf_grid_logreg.predict(train_features)\n",
    "y_test_pred = clf_grid_logreg.predict(test_features)\n",
    "\n",
    "f1_train = np.round(f1_score(y_train, y_train_pred,average = 'macro'), 3)\n",
    "f1_test = np.round(f1_score(y_test, y_test_pred,average = 'macro'), 3)\n",
    "\n",
    "# append results\n",
    "results = results.append(pd.Series(['LogisticRegression', f1_train, f1_test], index=results.columns), ignore_index=True)\n",
    "\n",
    "print(f\"Logistic Regression: \\tTrain:{f1_train:.4f}\\tTest:{f1_test:.4f}\")"
   ]
  },
  {
   "cell_type": "markdown",
   "id": "c473b9b5",
   "metadata": {},
   "source": [
    "### Check results for systematic errors"
   ]
  },
  {
   "cell_type": "code",
   "execution_count": 13,
   "id": "b891d160",
   "metadata": {
    "scrolled": false
   },
   "outputs": [
    {
     "data": {
      "text/plain": [
       "<sklearn.metrics._plot.confusion_matrix.ConfusionMatrixDisplay at 0x7fa1b0972a90>"
      ]
     },
     "execution_count": 13,
     "metadata": {},
     "output_type": "execute_result"
    },
    {
     "data": {
      "image/png": "[encoded data removed]",
      "text/plain": [
       "<Figure size 432x288 with 2 Axes>"
      ]
     },
     "metadata": {
      "needs_background": "light"
     },
     "output_type": "display_data"
    }
   ],
   "source": [
    "cm = confusion_matrix(y_test, y_test_pred, labels=clf_grid_logreg.classes_)\n",
    "disp = ConfusionMatrixDisplay(confusion_matrix=cm, display_labels=clf_grid_logreg.classes_)\n",
    "disp.plot()"
   ]
  },
  {
   "cell_type": "markdown",
   "id": "1ecc7179",
   "metadata": {},
   "source": [
    "Relatively evenly distributed errors on the test set."
   ]
  },
  {
   "cell_type": "markdown",
   "id": "35ca51a9",
   "metadata": {},
   "source": [
    "### SVC"
   ]
  },
  {
   "cell_type": "code",
   "execution_count": 14,
   "id": "5b732877",
   "metadata": {},
   "outputs": [
    {
     "name": "stdout",
     "output_type": "stream",
     "text": [
      "SVM: \tTrain:0.9590\tTest:0.7800\n"
     ]
    }
   ],
   "source": [
    "#train the svc\n",
    "svc_params = {\n",
    "    'C': (0.1, 1., 10),\n",
    "    'kernel': ('rbf', 'linear'),\n",
    "}\n",
    "\n",
    "clf = SVC(random_state=42)\n",
    "clf_grid_svc = GridSearchCV(clf, svc_params, cv = 5, n_jobs= -1)\n",
    "clf_grid_svc.fit(train_features, y_train)\n",
    "\n",
    "# check the f1 score\n",
    "y_train_pred = clf_grid_svc.predict(train_features)\n",
    "y_test_pred = clf_grid_svc.predict(test_features)\n",
    "\n",
    "f1_train = np.round(f1_score(y_train, y_train_pred,average = 'macro'), 3)\n",
    "f1_test = np.round(f1_score(y_test, y_test_pred,average = 'macro'), 3)\n",
    "\n",
    "# append results\n",
    "results = results.append(pd.Series(['SVC', f1_train, f1_test], index=results.columns), ignore_index=True)\n",
    "\n",
    "print(f\"SVM: \\tTrain:{f1_train:.4f}\\tTest:{f1_test:.4f}\")"
   ]
  },
  {
   "cell_type": "markdown",
   "id": "06eff563",
   "metadata": {},
   "source": [
    "### RidgeClassifier"
   ]
  },
  {
   "cell_type": "code",
   "execution_count": 15,
   "id": "30fb8a33",
   "metadata": {},
   "outputs": [
    {
     "name": "stdout",
     "output_type": "stream",
     "text": [
      "Ridge Classifier F1: \tTrain:0.9870\tTest:0.7760\n"
     ]
    }
   ],
   "source": [
    "# select a linear model based on the assumption that specific words (linearly) imply a real disaster or not\n",
    "ridge_params = {\n",
    "    'alpha': (0.1, 1, 10),\n",
    "    'fit_intercept': (True, False)\n",
    "}\n",
    "\n",
    "clf = RidgeClassifier(random_state=42)\n",
    "clf_grid_ridge = GridSearchCV(clf, ridge_params, cv=5, n_jobs=-1)\n",
    "clf_grid_ridge.fit(train_features, y_train)\n",
    "\n",
    "# check the f1 score\n",
    "y_train_pred = clf_grid_ridge.predict(train_features)\n",
    "y_test_pred = clf_grid_ridge.predict(test_features)\n",
    "\n",
    "f1_train = np.round(f1_score(y_train, y_train_pred,average = 'macro'), 3)\n",
    "f1_test = np.round(f1_score(y_test, y_test_pred,average = 'macro'), 3)\n",
    "\n",
    "# append results\n",
    "results = results.append(pd.Series(['RidgeClassifier', f1_train, f1_test], index=results.columns), ignore_index=True)\n",
    "\n",
    "print(f\"Ridge Classifier F1: \\tTrain:{f1_train:.4f}\\tTest:{f1_test:.4f}\")"
   ]
  },
  {
   "cell_type": "markdown",
   "id": "59cea113",
   "metadata": {},
   "source": [
    "### RandomForest"
   ]
  },
  {
   "cell_type": "code",
   "execution_count": 16,
   "id": "34848bd5",
   "metadata": {
    "scrolled": true
   },
   "outputs": [
    {
     "name": "stdout",
     "output_type": "stream",
     "text": [
      "Random Forest F1: \tTrain:0.9810\tTest:0.7620\n"
     ]
    }
   ],
   "source": [
    "# we start with a grid search on a RandomForestClassifier\n",
    "clf = RandomForestClassifier(random_state=42)\n",
    "forest_params = {\n",
    "    'n_estimators': (100, 500),\n",
    "    'max_depth': [500]\n",
    "}\n",
    "\n",
    "# perform gridsearch\n",
    "clf = RandomForestClassifier(random_state=42)\n",
    "clf_grid_forest = GridSearchCV(clf, forest_params, verbose=0, n_jobs=-1)\n",
    "clf_grid_forest.fit(train_features, y_train)\n",
    "\n",
    "# check the f1 score\n",
    "y_train_pred = clf_grid_forest.predict(train_features)\n",
    "y_test_pred = clf_grid_forest.predict(test_features)\n",
    "\n",
    "f1_train = np.round(f1_score(y_train, y_train_pred,average = 'macro'), 3)\n",
    "f1_test = np.round(f1_score(y_test, y_test_pred,average = 'macro'), 3)\n",
    "\n",
    "# append results\n",
    "results = results.append(pd.Series(['RandomForest', f1_train, f1_test], index=results.columns), ignore_index=True)\n",
    "\n",
    "print(f\"Random Forest F1: \\tTrain:{f1_train:.4f}\\tTest:{f1_test:.4f}\")"
   ]
  },
  {
   "cell_type": "markdown",
   "id": "48701e23",
   "metadata": {},
   "source": [
    "### Ensemble Method: StackingClassifier"
   ]
  },
  {
   "cell_type": "code",
   "execution_count": 17,
   "id": "aa202017",
   "metadata": {},
   "outputs": [],
   "source": [
    "# lets put together the classifiers for our ensemble using the previously claculated optimal parameters.\n",
    "estimators = [\n",
    "    ('rf', RandomForestClassifier(**clf_grid_forest.best_params_, random_state=42)),\n",
    "    ('svr', SVC(**clf_grid_svc.best_params_, random_state=42)),\n",
    "    ('ridge', RidgeClassifier(**clf_grid_ridge.best_params_, random_state=42)),\n",
    "    ('logreg', LogisticRegression(**clf_grid_logreg.best_params_, random_state=42, max_iter=1000))\n",
    "]\n",
    "\n",
    "# fit our stacking classifier\n",
    "clf = StackingClassifier(estimators=estimators, final_estimator=LogisticRegression())\n",
    "ensemble_results = cross_validate(clf, train_features, y_train, scoring=['accuracy', 'f1'] , cv=5, n_jobs=-1)"
   ]
  },
  {
   "cell_type": "code",
   "execution_count": 18,
   "id": "4eb4a9ed",
   "metadata": {
    "scrolled": false
   },
   "outputs": [
    {
     "name": "stdout",
     "output_type": "stream",
     "text": [
      "Ensemble F1 \t Test:0.7510\n"
     ]
    }
   ],
   "source": [
    "f1_train = np.nan\n",
    "f1_test = np.round(ensemble_results['test_f1'].mean(), 3)\n",
    "results = results.append(pd.Series(['Ensemble Learner', f1_train, f1_test], index=results.columns), ignore_index=True)\n",
    "\n",
    "print(f'Ensemble F1 \\t Test:{f1_test:.4f}')"
   ]
  },
  {
   "cell_type": "code",
   "execution_count": null,
   "id": "31b45f57",
   "metadata": {},
   "outputs": [],
   "source": []
  },
  {
   "cell_type": "code",
   "execution_count": null,
   "id": "8b7df104",
   "metadata": {},
   "outputs": [],
   "source": []
  },
  {
   "cell_type": "markdown",
   "id": "02272836",
   "metadata": {},
   "source": [
    "# Neural Network\n",
    "In this second part we are going to use a sequential neural network for the classification."
   ]
  },
  {
   "cell_type": "markdown",
   "id": "9bd02b33",
   "metadata": {},
   "source": [
    "### Create early stopping mechanism for NN"
   ]
  },
  {
   "cell_type": "code",
   "execution_count": 19,
   "id": "3239b470",
   "metadata": {},
   "outputs": [],
   "source": [
    "# simple early stopping\n",
    "es = EarlyStopping(monitor='val_loss', #quantity to be monitored\n",
    "                   mode='min', #we look for decreasing patterns stop \n",
    "                   patience = 3, #number of epochs with no improvement\n",
    "                   verbose=1)\n",
    "\n",
    "np.random.seed(123)\n",
    "set_random_seed(2)"
   ]
  },
  {
   "cell_type": "markdown",
   "id": "8e558eca",
   "metadata": {},
   "source": [
    "### Transform data into a suitable input"
   ]
  },
  {
   "cell_type": "code",
   "execution_count": 20,
   "id": "e569167d",
   "metadata": {},
   "outputs": [],
   "source": [
    "# change to dense format\n",
    "train_features_den = train_features.todense()\n",
    "test_features_den = test_features.todense()\n",
    "feature_vector_length = train_features_den.shape[1]\n",
    "\n",
    "# one-hot-encoding of labels\n",
    "n_classes = len(set(y_train))\n",
    "y_train_cat = to_categorical(y_train, n_classes)\n",
    "y_test_cat = to_categorical(y_test, n_classes)"
   ]
  },
  {
   "cell_type": "markdown",
   "id": "f3246226",
   "metadata": {},
   "source": [
    "### Create and fit the NN"
   ]
  },
  {
   "cell_type": "code",
   "execution_count": 21,
   "id": "a181f33a",
   "metadata": {},
   "outputs": [
    {
     "name": "stderr",
     "output_type": "stream",
     "text": [
      "2022-01-22 18:31:14.815146: W tensorflow/stream_executor/platform/default/dso_loader.cc:64] Could not load dynamic library 'libcuda.so.1'; dlerror: libcuda.so.1: cannot open shared object file: No such file or directory\n",
      "2022-01-22 18:31:14.815165: W tensorflow/stream_executor/cuda/cuda_driver.cc:269] failed call to cuInit: UNKNOWN ERROR (303)\n",
      "2022-01-22 18:31:14.815178: I tensorflow/stream_executor/cuda/cuda_diagnostics.cc:156] kernel driver does not appear to be running on this host (siprius): /proc/driver/nvidia/version does not exist\n",
      "2022-01-22 18:31:14.815328: I tensorflow/core/platform/cpu_feature_guard.cc:151] This TensorFlow binary is optimized with oneAPI Deep Neural Network Library (oneDNN) to use the following CPU instructions in performance-critical operations:  AVX2 FMA\n",
      "To enable them in other operations, rebuild TensorFlow with the appropriate compiler flags.\n"
     ]
    }
   ],
   "source": [
    "import tensorflow as tf\n",
    "precision = tf.keras.metrics.Precision()\n",
    "recall = tf.keras.metrics.Recall()"
   ]
  },
  {
   "cell_type": "code",
   "execution_count": 22,
   "id": "b2989605",
   "metadata": {},
   "outputs": [
    {
     "name": "stderr",
     "output_type": "stream",
     "text": [
      "2022-01-22 18:31:15.233445: W tensorflow/core/framework/cpu_allocator_impl.cc:82] Allocation of 1018450464 exceeds 10% of free system memory.\n"
     ]
    },
    {
     "name": "stdout",
     "output_type": "stream",
     "text": [
      "Epoch 1/10\n",
      "52/52 - 5s - loss: 0.6035 - accuracy: 0.6953 - precision: 0.6953 - recall: 0.6953 - val_loss: 0.4744 - val_accuracy: 0.7876 - val_precision: 0.7876 - val_recall: 0.7876 - 5s/epoch - 88ms/step\n",
      "Epoch 2/10\n",
      "52/52 - 4s - loss: 0.2448 - accuracy: 0.9069 - precision: 0.9069 - recall: 0.9069 - val_loss: 0.5002 - val_accuracy: 0.7853 - val_precision: 0.7853 - val_recall: 0.7853 - 4s/epoch - 80ms/step\n",
      "Epoch 3/10\n",
      "52/52 - 4s - loss: 0.0803 - accuracy: 0.9724 - precision: 0.9724 - recall: 0.9724 - val_loss: 0.5779 - val_accuracy: 0.7792 - val_precision: 0.7792 - val_recall: 0.7792 - 4s/epoch - 83ms/step\n",
      "Epoch 4/10\n",
      "52/52 - 5s - loss: 0.0545 - accuracy: 0.9787 - precision: 0.9787 - recall: 0.9787 - val_loss: 0.5896 - val_accuracy: 0.7730 - val_precision: 0.7730 - val_recall: 0.7730 - 5s/epoch - 94ms/step\n",
      "Epoch 00004: early stopping\n"
     ]
    }
   ],
   "source": [
    "# keras does not provide f1 as a metric during training, so we need to calculate it by hand using precision and recall\n",
    "# from tensorflow.keras.metrics import Precision, Recall\n",
    "from keras.models import Sequential\n",
    "\n",
    "# create model layers\n",
    "model = Sequential() \n",
    "model.add(Dense(input_dim = feature_vector_length, units=200 , activation='relu')) \n",
    "model.add(Dense(100, activation='relu'))\n",
    "model.add(Dense(n_classes, activation='softmax')) #output layer\n",
    "\n",
    "# configure the model and start training\n",
    "model.compile(loss='binary_crossentropy', #loss metric\n",
    "    optimizer='adam',  #optimizer\n",
    "    metrics=['accuracy', precision, recall]) #displayed metric\n",
    "\n",
    "history = model.fit(train_features_den, y_train_cat, batch_size=100, epochs=10, verbose=2, validation_split=0.2, callbacks=[es])"
   ]
  },
  {
   "cell_type": "markdown",
   "id": "d1035769",
   "metadata": {},
   "source": [
    "### Analyse the NN output"
   ]
  },
  {
   "cell_type": "code",
   "execution_count": 23,
   "id": "3e9fd6fb",
   "metadata": {},
   "outputs": [
    {
     "name": "stdout",
     "output_type": "stream",
     "text": [
      "       loss  accuracy  precision    recall  val_loss  val_accuracy  \\\n",
      "0  0.603494  0.695325   0.695325  0.695325  0.474386      0.787645   \n",
      "1  0.244827  0.906878   0.906878  0.906878  0.500160      0.785328   \n",
      "2  0.080251  0.972372   0.972372  0.972372  0.577887      0.779151   \n",
      "3  0.054462  0.978748   0.978748  0.978748  0.589584      0.772973   \n",
      "\n",
      "   val_precision  val_recall        f1    val_f1  \n",
      "0       0.787645    0.787645  0.695325  0.787645  \n",
      "1       0.785328    0.785328  0.906878  0.785328  \n",
      "2       0.779151    0.779151  0.972372  0.779151  \n",
      "3       0.772973    0.772973  0.978748  0.772973  \n"
     ]
    }
   ],
   "source": [
    "history_pd = pd.DataFrame(history.history)\n",
    "history_pd['f1'] = 2/(1/history_pd.iloc[:, 2] + 1/history_pd.iloc[:, 3])\n",
    "history_pd['val_f1'] = 2/(1/history_pd.iloc[:, 6] + 1/history_pd.iloc[:, 7])\n",
    "print(history_pd)"
   ]
  },
  {
   "cell_type": "code",
   "execution_count": 24,
   "id": "8115eaa0",
   "metadata": {},
   "outputs": [
    {
     "data": {
      "image/png": "[encoded data removed]",
      "text/plain": [
       "<Figure size 432x288 with 2 Axes>"
      ]
     },
     "metadata": {
      "needs_background": "light"
     },
     "output_type": "display_data"
    }
   ],
   "source": [
    "fig, axes = plt.subplots(1, 2)\n",
    "\n",
    "axes[0].plot(history_pd['loss'])\n",
    "axes[0].plot(history_pd['val_loss'])\n",
    "axes[0].set_title('Model loss')\n",
    "axes[0].set_ylabel('loss')\n",
    "axes[0].set_xlabel('epoch')\n",
    "axes[0].legend(['train', 'val'], loc='upper left')\n",
    "axes[0].grid()\n",
    "# summarize history for accuracy\n",
    "axes[1].plot(history_pd['f1'])\n",
    "axes[1].plot(history_pd['val_f1'])\n",
    "axes[1].set_title('Model f1 score')\n",
    "axes[1].set_ylabel('f1 score')\n",
    "axes[1].set_xlabel('epoch')\n",
    "axes[1].legend(['train', 'val'], loc='upper left')\n",
    "axes[1].grid()\n",
    "\n",
    "fig.tight_layout()\n",
    "     "
   ]
  },
  {
   "cell_type": "markdown",
   "id": "bf229be6",
   "metadata": {},
   "source": [
    "The training curves show a clear picture: the NN overfits our data. The train loss is reduced constantly and training f1 nealy reaches 0.98 but the validation loss increases over the epochs and validation f1 stays at about 0.78."
   ]
  },
  {
   "cell_type": "code",
   "execution_count": 25,
   "id": "91f4ed75",
   "metadata": {},
   "outputs": [
    {
     "name": "stderr",
     "output_type": "stream",
     "text": [
      "2022-01-22 18:31:34.113833: W tensorflow/core/framework/cpu_allocator_impl.cc:82] Allocation of 1273259844 exceeds 10% of free system memory.\n"
     ]
    },
    {
     "name": "stdout",
     "output_type": "stream",
     "text": [
      "Train F1 score: 0.934\n",
      "Test F1 score: 0.734\n",
      "\n",
      "Train accuracy score: 0.943\n",
      "Test accuray score: 0.766\n"
     ]
    }
   ],
   "source": [
    "y_proba = model.predict(train_features_den)\n",
    "y_train_pred = y_proba.argmax(axis=-1)\n",
    "\n",
    "y_proba = model.predict(test_features.todense())\n",
    "y_test_pred = y_proba.argmax(axis=-1)\n",
    "\n",
    "f1_train = np.round(f1_score(y_train, y_train_pred), 3)\n",
    "f1_test = np.round(f1_score(y_test, y_test_pred), 3)\n",
    "results = results.append(pd.Series(['Neural Network', f1_train, f1_test], index=results.columns), ignore_index=True)\n",
    "\n",
    "\n",
    "print('Train F1 score:', f1_train)\n",
    "print('Test F1 score:', f1_test)\n",
    "print('\\nTrain accuracy score:', np.round(accuracy_score(y_train, y_train_pred), 3))\n",
    "print('Test accuray score:', np.round(accuracy_score(y_test, y_test_pred), 3))"
   ]
  },
  {
   "cell_type": "markdown",
   "id": "da30afd6",
   "metadata": {},
   "source": [
    "### Model Variation\n",
    "\n",
    "In the following section we will try out different depths and activation functions for our model."
   ]
  },
  {
   "cell_type": "code",
   "execution_count": 26,
   "id": "c600ff89",
   "metadata": {},
   "outputs": [],
   "source": [
    "# the function can be used in a loop to define several models. The number of units per layer is decreased with every layer \n",
    "# to create a \"bottleneck\"\n",
    "def MLP_definer(n_layers, n_features, n_classes, activation_f):\n",
    "    \n",
    "    model = Sequential()\n",
    "    model.add(Dense(input_dim = n_features, units=500, activation=activation_f))\n",
    "    for i in range(1, n_layers):\n",
    "        model.add(Dense(units=500-10*i^2, activation=activation_f))\n",
    "        \n",
    "    model.add(Dense(units=n_classes, activation='softmax'))\n",
    "    return model"
   ]
  },
  {
   "cell_type": "code",
   "execution_count": 27,
   "id": "e393b42f",
   "metadata": {},
   "outputs": [
    {
     "name": "stdout",
     "output_type": "stream",
     "text": [
      "\n",
      " ## Activation function relu ############################################################################\n"
     ]
    },
    {
     "name": "stderr",
     "output_type": "stream",
     "text": [
      "2022-01-22 18:31:39.447730: W tensorflow/core/framework/cpu_allocator_impl.cc:82] Allocation of 1018450464 exceeds 10% of free system memory.\n"
     ]
    },
    {
     "name": "stdout",
     "output_type": "stream",
     "text": [
      "Epoch 00004: early stopping\n",
      "Number of layers: 2 \n",
      "Train Acc: 0.9799072742462158 \n",
      "Test Acc:  0.7760617733001709\n",
      "\n"
     ]
    },
    {
     "name": "stderr",
     "output_type": "stream",
     "text": [
      "2022-01-22 18:32:20.637598: W tensorflow/core/framework/cpu_allocator_impl.cc:82] Allocation of 1018450464 exceeds 10% of free system memory.\n"
     ]
    },
    {
     "name": "stdout",
     "output_type": "stream",
     "text": [
      "Epoch 00004: early stopping\n",
      "Number of layers: 3 \n",
      "Train Acc: 0.9793276786804199 \n",
      "Test Acc:  0.784555971622467\n",
      "\n"
     ]
    },
    {
     "name": "stderr",
     "output_type": "stream",
     "text": [
      "2022-01-22 18:33:01.083434: W tensorflow/core/framework/cpu_allocator_impl.cc:82] Allocation of 1018450464 exceeds 10% of free system memory.\n"
     ]
    },
    {
     "name": "stdout",
     "output_type": "stream",
     "text": [
      "Epoch 00004: early stopping\n",
      "Number of layers: 4 \n",
      "Train Acc: 0.9802936911582947 \n",
      "Test Acc:  0.7791506052017212\n",
      "\n",
      "\n",
      " ## Activation function sigmoid ############################################################################\n",
      "Epoch 00007: early stopping\n",
      "Number of layers: 2 \n",
      "Train Acc: 0.9731453061103821 \n",
      "Test Acc:  0.7930501699447632\n",
      "\n",
      "Epoch 00008: early stopping\n",
      "Number of layers: 3 \n",
      "Train Acc: 0.9781684875488281 \n",
      "Test Acc:  0.777606189250946\n",
      "\n",
      "Epoch 00011: early stopping\n",
      "Number of layers: 4 \n",
      "Train Acc: 0.9607805013656616 \n",
      "Test Acc:  0.792277991771698\n",
      "\n"
     ]
    }
   ],
   "source": [
    "out = {}\n",
    "for fun in ('relu', 'sigmoid'):\n",
    "    print(f'\\n ## Activation function {fun} ############################################################################')\n",
    "    for i in range(2,5):    \n",
    "        model = MLP_definer(i, n_features=feature_vector_length, n_classes=n_classes, activation_f=fun)\n",
    "        model.compile(\n",
    "            loss='binary_crossentropy',\n",
    "            optimizer='adam',\n",
    "            metrics=['accuracy', precision, recall] #displayed metric\n",
    "        )\n",
    "        history = model.fit(train_features_den, y_train_cat, batch_size=100, epochs=20, verbose=0, validation_split=0.2, callbacks=[es])\n",
    "        out[i] = [history.history['accuracy'][-1],  history.history['val_accuracy'][-1]]\n",
    "        print(f'Number of layers: {i} \\nTrain Acc: {history.history[\"accuracy\"][-1]} \\nTest Acc:  {history.history[\"val_accuracy\"][-1]}\\n')"
   ]
  },
  {
   "cell_type": "markdown",
   "id": "499a62a0",
   "metadata": {},
   "source": [
    "# Compare F1 scores for all models that were used"
   ]
  },
  {
   "cell_type": "code",
   "execution_count": 28,
   "id": "7724a57d",
   "metadata": {},
   "outputs": [
    {
     "name": "stdout",
     "output_type": "stream",
     "text": [
      "                model  f1_train  f1_test\n",
      "0  LogisticRegression     0.984    0.781\n",
      "1                 SVC     0.959    0.780\n",
      "2     RidgeClassifier     0.987    0.776\n",
      "3        RandomForest     0.981    0.762\n",
      "4    Ensemble Learner       NaN    0.751\n",
      "5      Neural Network     0.934    0.734\n"
     ]
    }
   ],
   "source": [
    "print(results)"
   ]
  }
 ],
 "metadata": {
  "kernelspec": {
   "display_name": "Python 3 (ipykernel)",
   "language": "python",
   "name": "python3"
  },
  "language_info": {
   "codemirror_mode": {
    "name": "ipython",
    "version": 3
   },
   "file_extension": ".py",
   "mimetype": "text/x-python",
   "name": "python",
   "nbconvert_exporter": "python",
   "pygments_lexer": "ipython3",
   "version": "3.8.10"
  }
 },
 "nbformat": 4,
 "nbformat_minor": 5
}
