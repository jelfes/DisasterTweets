{
 "cells": [
  {
   "cell_type": "markdown",
   "metadata": {},
   "source": [
    "### Import Packages"
   ]
  },
  {
   "cell_type": "code",
   "execution_count": 111,
   "metadata": {},
   "outputs": [],
   "source": [
    "import pandas as pd\n",
    "import numpy as np\n",
    "import matplotlib.pyplot as plt\n",
    "from scipy.sparse import hstack\n",
    "\n",
    "# tokenization\n",
    "from nltk.stem import WordNetLemmatizer\n",
    "from nltk.tokenize import regexp_tokenize\n",
    "from nltk.tokenize import TweetTokenizer\n",
    "from nltk.tokenize import word_tokenize\n",
    "\n",
    "# stopword removal\n",
    "import nltk\n",
    "import string\n",
    "import re\n",
    "from nltk.corpus import stopwords\n",
    "english_stopwords = stopwords.words(\"english\")\n",
    "\n",
    "# Vectorization/Preprocessing\n",
    "from sklearn.feature_extraction.text import TfidfVectorizer\n",
    "from sklearn.model_selection import train_test_split\n",
    "from tensorflow.keras.utils import to_categorical\n",
    "\n",
    "# Classifiers\n",
    "from sklearn.svm import SVC\n",
    "from sklearn.linear_model import RidgeClassifier\n",
    "from sklearn.ensemble import RandomForestClassifier\n",
    "from sklearn.linear_model import LogisticRegression\n",
    "from sklearn.ensemble import StackingClassifier\n",
    "\n",
    "from sklearn.model_selection import cross_validate\n",
    "from sklearn.model_selection import GridSearchCV\n",
    "\n",
    "# metrics\n",
    "from sklearn.metrics import f1_score\n",
    "from sklearn.metrics import accuracy_score\n",
    "\n",
    "# Neural Networks\n",
    "import tensorflow as tf \n",
    "from tensorflow.keras.models import Sequential \n",
    "from tensorflow.keras.layers import Dropout, Input, Dense \n",
    "from keras.utils.vis_utils import plot_model\n",
    "from keras.callbacks import EarlyStopping\n",
    "from tensorflow.python.framework.random_seed import set_random_seed\n",
    "\n",
    "\n",
    "datapath = 'data/'"
   ]
  },
  {
   "cell_type": "markdown",
   "metadata": {},
   "source": [
    "### Load Data"
   ]
  },
  {
   "cell_type": "code",
   "execution_count": 102,
   "metadata": {},
   "outputs": [],
   "source": [
    "data = pd.read_csv(datapath + 'disaster_train.csv', sep=',',)"
   ]
  },
  {
   "cell_type": "markdown",
   "metadata": {},
   "source": [
    "### Tokenize data\n",
    "\n",
    "we extract the text of the tweets as X vector and the transform them into a `tf-idf` (term-frequency times inverse document-frequency) matrix. \n"
   ]
  },
  {
   "cell_type": "code",
   "execution_count": 103,
   "metadata": {
    "scrolled": true
   },
   "outputs": [
    {
     "name": "stdout",
     "output_type": "stream",
     "text": [
      "0    nan\n",
      "1    nan\n",
      "2    nan\n",
      "3    nan\n",
      "4    nan\n",
      "Name: keyword, dtype: object\n",
      "0    Our Deeds are the Reason of this #earthquake M...\n",
      "1               Forest fire near La Ronge Sask. Canada\n",
      "2    All residents asked to 'shelter in place' are ...\n",
      "3    13,000 people receive #wildfires evacuation or...\n",
      "4    Just got sent this photo from Ruby #Alaska as ...\n",
      "Name: text, dtype: object\n"
     ]
    }
   ],
   "source": [
    "# split feature vector and target vector\n",
    "Y = data[\"target\"].values \n",
    "X = data.values[:, 1:4]\n",
    "\n",
    "# Get only column with tweet text\n",
    "x_tweets = data['text']\n",
    "x_keywords = data['keyword'].fillna('nan')\n",
    "print(x_keywords.head())\n",
    "print(x_tweets.head())"
   ]
  },
  {
   "cell_type": "code",
   "execution_count": 104,
   "metadata": {
    "scrolled": true
   },
   "outputs": [
    {
     "name": "stdout",
     "output_type": "stream",
     "text": [
      "[['our', 'deeds', 'are', 'the', 'reason', 'of', 'this', '#earthquake', 'may', 'allah', 'forgive', 'us', 'all'], ['forest', 'fire', 'near', 'la', 'ronge', 'sask', '.', 'canada']]\n"
     ]
    }
   ],
   "source": [
    "# Tweet tokenizer for making all alphabetical symbols lowercase, reducing length of words\n",
    "# if they are e.g. 'goaaaal' and for removing account handles\n",
    "tknzr = TweetTokenizer(preserve_case = False, strip_handles = True, reduce_len = True)\n",
    "tweet_tokens = []\n",
    "for sent in x_tweets:\n",
    "    #print(tweet_tokenizer.tokenize(sent))\n",
    "    tweet_tokens.append(tknzr.tokenize(sent))\n",
    "print(tweet_tokens[:2])"
   ]
  },
  {
   "cell_type": "code",
   "execution_count": 105,
   "metadata": {
    "scrolled": true
   },
   "outputs": [
    {
     "data": {
      "text/plain": [
       "[['deeds', 'reason', 'earthquake', 'may', 'allah', 'forgive', 'us'],\n",
       " ['forest', 'fire', 'near', 'la', 'ronge', 'sask', 'canada']]"
      ]
     },
     "execution_count": 105,
     "metadata": {},
     "output_type": "execute_result"
    }
   ],
   "source": [
    "# clean out stopwords, # signs, punctuation and numbers\n",
    "clean_t2 = [[word if (word.startswith('#') == False) else re.sub(r'#', '', word) for word in tweet] for tweet in tweet_tokens]\n",
    "clean_t3 = [[word for word in tweet if (word not in string.punctuation) and (word.isalpha() == True) and (word not in english_stopwords)] for tweet in clean_t2]\n",
    "clean_t3[:2]"
   ]
  },
  {
   "cell_type": "code",
   "execution_count": 106,
   "metadata": {},
   "outputs": [
    {
     "data": {
      "text/plain": [
       "array(['deeds reason earthquake may allah forgive us',\n",
       "       'forest fire near la ronge sask canada'], dtype='<U138')"
      ]
     },
     "execution_count": 106,
     "metadata": {},
     "output_type": "execute_result"
    }
   ],
   "source": [
    "# Transform into correct input form for the Vectorizer\n",
    "clean_t4 = [' '.join(tweet) for tweet in clean_t3]\n",
    "x_tweets = np.array(clean_t4)\n",
    "x_tweets[:2]"
   ]
  },
  {
   "cell_type": "code",
   "execution_count": 107,
   "metadata": {},
   "outputs": [],
   "source": [
    "# stack preprocessed tweets and keywords back together\n",
    "x_tweets_keywords = np.stack((x_tweets, x_keywords), axis=1)"
   ]
  },
  {
   "cell_type": "code",
   "execution_count": 110,
   "metadata": {},
   "outputs": [
    {
     "name": "stdout",
     "output_type": "stream",
     "text": [
      "vocabulary size tweets: 48914\n",
      "vocabulary size keywords: 277\n"
     ]
    }
   ],
   "source": [
    "# split train and test set\n",
    "X_train, X_test, y_train, y_test = train_test_split(x_tweets_keywords, Y, test_size=0.15, random_state=42, shuffle=True)\n",
    "\n",
    "# create tf-idf vectorizer\n",
    "tf_computer = TfidfVectorizer(use_idf=True, ngram_range=(1,2))\n",
    "\n",
    "# vectorize train and test set\n",
    "train_features_tweets = tf_computer.fit_transform(X_train[:, 0])\n",
    "test_features_tweets = tf_computer.transform(X_test[:, 0])\n",
    "print(\"vocabulary size tweets:\", len(tf_computer.vocabulary_))\n",
    "\n",
    "train_features_keywords = tf_computer.fit_transform(X_train[:, 1])\n",
    "test_features_keywords = tf_computer.transform(X_test[:, 1])\n",
    "print(\"vocabulary size keywords:\", len(tf_computer.vocabulary_))\n",
    "\n",
    "# stack features together\n",
    "train_features = hstack((train_features_tweets, train_features_keywords))\n",
    "test_features = hstack((test_features_tweets, test_features_keywords))"
   ]
  },
  {
   "cell_type": "code",
   "execution_count": 98,
   "metadata": {},
   "outputs": [],
   "source": []
  },
  {
   "cell_type": "code",
   "execution_count": null,
   "metadata": {},
   "outputs": [],
   "source": []
  },
  {
   "cell_type": "code",
   "execution_count": null,
   "metadata": {},
   "outputs": [],
   "source": []
  },
  {
   "cell_type": "code",
   "execution_count": null,
   "metadata": {},
   "outputs": [],
   "source": []
  },
  {
   "cell_type": "markdown",
   "metadata": {},
   "source": [
    "# Linear Classifiers\n",
    "In the following we are going to try out different Linear Classifiers provided by sklearn. For each of those we will perform a gridsearch on the main parameters and print out the F1 score for the best fit. Following to that we will use the different simple classifiers to build one ensemle classifier."
   ]
  },
  {
   "cell_type": "markdown",
   "metadata": {},
   "source": [
    "### Logistic Regression"
   ]
  },
  {
   "cell_type": "code",
   "execution_count": null,
   "metadata": {},
   "outputs": [],
   "source": [
    "# define grid search parameters \n",
    "param_grid = {\n",
    "    'C': [0.5, 1, 5, 10]\n",
    "}\n",
    "# instantiate log reg object\n",
    "lr = LogisticRegression()\n",
    "\n",
    "#grid-search object\n",
    "clf = GridSearchCV(estimator= lr, param_grid=param_grid, cv = 5, scoring = \"accuracy\")\n",
    "\n",
    "#fit the model\n",
    "clf.fit(train_features, y_train) #we do not use the train - validation split strategy since it is included in the CV procedure\n",
    "\n",
    "#see the best parameters and performance\n",
    "print(clf.best_params_)\n",
    "print(clf.best_score_)\n",
    "\n",
    "y_train_pred = clf.predict(train_features)\n",
    "y_pred_test = clf.predict(test_features)\n",
    "print(f\"Logistic Regression.\\tTrain:{f1_score(y_train, y_train_pred,average = 'macro'):.4f}\\tTest:{f1_score(y_test, y_test_pred,average = 'macro'):.4f}\")"
   ]
  },
  {
   "cell_type": "markdown",
   "metadata": {},
   "source": [
    "### SVM"
   ]
  },
  {
   "cell_type": "code",
   "execution_count": 100,
   "metadata": {},
   "outputs": [
    {
     "name": "stdout",
     "output_type": "stream",
     "text": [
      "SVC F1: \tTrain:0.9658\tTest:0.7749\n"
     ]
    }
   ],
   "source": [
    "#train the svc\n",
    "svc_params = {\n",
    "    'C': (0.1, 1., 10),\n",
    "    'kernel': ('rbf', 'linear'),\n",
    "}\n",
    "\n",
    "clf = SVC(random_state=42)\n",
    "clf_grid_svc = GridSearchCV(clf, svc_params, cv = 5, n_jobs= -1)\n",
    "clf_grid_svc.fit(train_features, y_train)\n",
    "\n",
    "# check out accuracy\n",
    "y_train_pred = clf_grid_svc.predict(train_features)\n",
    "y_test_pred = clf_grid_svc.predict(test_features)\n",
    "print(f\"SVC F1: \\tTrain:{f1_score(y_train, y_train_pred,average = 'macro'):.4f}\\tTest:{f1_score(y_test, y_test_pred,average = 'macro'):.4f}\")"
   ]
  },
  {
   "cell_type": "code",
   "execution_count": 96,
   "metadata": {},
   "outputs": [
    {
     "name": "stdout",
     "output_type": "stream",
     "text": [
      "              precision    recall  f1-score   support\n",
      "\n",
      "           0       0.83      0.79      0.81       681\n",
      "           1       0.71      0.76      0.74       461\n",
      "\n",
      "    accuracy                           0.78      1142\n",
      "   macro avg       0.77      0.78      0.77      1142\n",
      "weighted avg       0.78      0.78      0.78      1142\n",
      "\n"
     ]
    }
   ],
   "source": [
    "from sklearn.metrics import classification_report\n",
    "\n",
    "# Look at all metrics \n",
    "print(classification_report(y_test_pred, y_test))"
   ]
  },
  {
   "cell_type": "code",
   "execution_count": 12,
   "metadata": {},
   "outputs": [
    {
     "data": {
      "text/html": [
       "<div>\n",
       "<style scoped>\n",
       "    .dataframe tbody tr th:only-of-type {\n",
       "        vertical-align: middle;\n",
       "    }\n",
       "\n",
       "    .dataframe tbody tr th {\n",
       "        vertical-align: top;\n",
       "    }\n",
       "\n",
       "    .dataframe thead th {\n",
       "        text-align: right;\n",
       "    }\n",
       "</style>\n",
       "<table border=\"1\" class=\"dataframe\">\n",
       "  <thead>\n",
       "    <tr style=\"text-align: right;\">\n",
       "      <th></th>\n",
       "      <th>id</th>\n",
       "      <th>text</th>\n",
       "      <th>classification</th>\n",
       "    </tr>\n",
       "  </thead>\n",
       "  <tbody>\n",
       "    <tr>\n",
       "      <th>1132</th>\n",
       "      <td>1132</td>\n",
       "      <td>yo timeline blew damn fast</td>\n",
       "      <td>0</td>\n",
       "    </tr>\n",
       "    <tr>\n",
       "      <th>1133</th>\n",
       "      <td>1133</td>\n",
       "      <td>meek mill responds drake ûªs ovo fest set wedg...</td>\n",
       "      <td>0</td>\n",
       "    </tr>\n",
       "    <tr>\n",
       "      <th>1134</th>\n",
       "      <td>1134</td>\n",
       "      <td>tracy blight thank following</td>\n",
       "      <td>0</td>\n",
       "    </tr>\n",
       "    <tr>\n",
       "      <th>1135</th>\n",
       "      <td>1135</td>\n",
       "      <td>accident left lane blocked manchester rt nb ed...</td>\n",
       "      <td>1</td>\n",
       "    </tr>\n",
       "    <tr>\n",
       "      <th>1136</th>\n",
       "      <td>1136</td>\n",
       "      <td>deadpool already one favourite marvel characte...</td>\n",
       "      <td>0</td>\n",
       "    </tr>\n",
       "    <tr>\n",
       "      <th>1137</th>\n",
       "      <td>1137</td>\n",
       "      <td>warfighting robots could reduce civilian casua...</td>\n",
       "      <td>1</td>\n",
       "    </tr>\n",
       "    <tr>\n",
       "      <th>1138</th>\n",
       "      <td>1138</td>\n",
       "      <td>lives matter fan burning buildings stealing ne...</td>\n",
       "      <td>1</td>\n",
       "    </tr>\n",
       "    <tr>\n",
       "      <th>1139</th>\n",
       "      <td>1139</td>\n",
       "      <td>woman ûªs gps app guides rescuers injured bike...</td>\n",
       "      <td>1</td>\n",
       "    </tr>\n",
       "    <tr>\n",
       "      <th>1140</th>\n",
       "      <td>1140</td>\n",
       "      <td>tonight going mayhem everybody free w text st nw</td>\n",
       "      <td>0</td>\n",
       "    </tr>\n",
       "    <tr>\n",
       "      <th>1141</th>\n",
       "      <td>1141</td>\n",
       "      <td>ambulance right outside work</td>\n",
       "      <td>0</td>\n",
       "    </tr>\n",
       "  </tbody>\n",
       "</table>\n",
       "</div>"
      ],
      "text/plain": [
       "        id                                               text  classification\n",
       "1132  1132                         yo timeline blew damn fast               0\n",
       "1133  1133  meek mill responds drake ûªs ovo fest set wedg...               0\n",
       "1134  1134                       tracy blight thank following               0\n",
       "1135  1135  accident left lane blocked manchester rt nb ed...               1\n",
       "1136  1136  deadpool already one favourite marvel characte...               0\n",
       "1137  1137  warfighting robots could reduce civilian casua...               1\n",
       "1138  1138  lives matter fan burning buildings stealing ne...               1\n",
       "1139  1139  woman ûªs gps app guides rescuers injured bike...               1\n",
       "1140  1140   tonight going mayhem everybody free w text st nw               0\n",
       "1141  1141                       ambulance right outside work               0"
      ]
     },
     "execution_count": 12,
     "metadata": {},
     "output_type": "execute_result"
    }
   ],
   "source": [
    "x_test = pd.DataFrame(X_test)\n",
    "pred_df = pd.DataFrame(y_test_pred)\n",
    "frame = [x_test, pred_df, pd.Series(y_test)]\n",
    "# combine the tweet text with our classifications\n",
    "result = pd.concat(frame, axis = 1)\n",
    "result = result.reset_index()\n",
    "result.columns = ['id', 'text', 'classification', 'true label']\n",
    "# present some results\n",
    "result.tail(10)"
   ]
  },
  {
   "cell_type": "markdown",
   "metadata": {},
   "source": [
    "### RidgeClassifier"
   ]
  },
  {
   "cell_type": "code",
   "execution_count": 13,
   "metadata": {},
   "outputs": [
    {
     "name": "stdout",
     "output_type": "stream",
     "text": [
      "Ridge F1: \tTrain:0.9373\tTest:0.7879\n"
     ]
    }
   ],
   "source": [
    "# select a linear model based on the assumption that specific words (linearly) imply a real disaster or not\n",
    "ridge_params = {\n",
    "    'alpha': (0.1, 1, 10),\n",
    "    'fit_intercept': (True, False)\n",
    "}\n",
    "\n",
    "clf = RidgeClassifier(random_state=42)\n",
    "clf_grid_ridge = GridSearchCV(clf, ridge_params, cv=5, n_jobs=-1)\n",
    "clf_grid_ridge.fit(train_features, y_train)\n",
    "\n",
    "# check out accuracy\n",
    "y_train_pred = clf_grid_ridge.predict(train_features)\n",
    "y_test_pred = clf_grid_ridge.predict(test_features)\n",
    "print(f\"Ridge F1: \\tTrain:{f1_score(y_train, y_train_pred,average = 'macro'):.4f}\\tTest:{f1_score(y_test, y_test_pred,average = 'macro'):.4f}\")"
   ]
  },
  {
   "cell_type": "markdown",
   "metadata": {},
   "source": [
    "### RandomForest"
   ]
  },
  {
   "cell_type": "code",
   "execution_count": 14,
   "metadata": {
    "scrolled": true
   },
   "outputs": [
    {
     "name": "stdout",
     "output_type": "stream",
     "text": [
      "RandomForest f1: \tTrain:0.9863\tTest:0.7751\n"
     ]
    }
   ],
   "source": [
    "# we start with a grid search on a RandomForestClassifier\n",
    "clf = RandomForestClassifier(random_state=42)\n",
    "forest_params = {\n",
    "    'n_estimators': (100, 500, 1000),\n",
    "    'max_depth': (100, 500)\n",
    "}\n",
    "\n",
    "# perform gridsearch\n",
    "clf = RandomForestClassifier(random_state=42)\n",
    "clf_grid_forest = GridSearchCV(clf, forest_params, verbose=0, n_jobs=-1)\n",
    "clf_grid_forest.fit(train_features, y_train)\n",
    "\n",
    "# check performance\n",
    "y_train_pred = clf_grid_forest.predict(train_features)\n",
    "y_test_pred = clf_grid_forest.predict(test_features)\n",
    "print(f\"RandomForest f1: \\tTrain:{f1_score(y_train, y_train_pred,average = 'macro'):.4f}\\tTest:{f1_score(y_test, y_test_pred,average = 'macro'):.4f}\")"
   ]
  },
  {
   "cell_type": "markdown",
   "metadata": {},
   "source": [
    "### Ensemble Method: StackingClassifier"
   ]
  },
  {
   "cell_type": "code",
   "execution_count": null,
   "metadata": {},
   "outputs": [
    {
     "name": "stderr",
     "output_type": "stream",
     "text": [
      "[Parallel(n_jobs=-1)]: Using backend LokyBackend with 8 concurrent workers.\n",
      "[Parallel(n_jobs=-1)]: Done   2 out of   5 | elapsed:  7.4min remaining: 11.1min\n"
     ]
    }
   ],
   "source": [
    "# lets put together the classifiers for our ensemble using the previously claculated optimal parameters.\n",
    "estimators = [\n",
    "    ('rf', RandomForestClassifier(**clf_grid_forest.best_params_, random_state=42)),\n",
    "    ('svr', SVC(**clf_grid_svc.best_params_, random_state=42)),\n",
    "    ('ridge', RidgeClassifier(**clf_grid_ridge.best_params_, random_state=42))\n",
    "]\n",
    "\n",
    "# fit our stacking classifier\n",
    "clf = StackingClassifier(estimators=estimators, final_estimator=LogisticRegression())\n",
    "results = cross_validate(clf, train_features, y_train, scoring=['accuracy', 'f1'] , cv=5, verbose=1, n_jobs=-1)"
   ]
  },
  {
   "cell_type": "code",
   "execution_count": 29,
   "metadata": {
    "scrolled": true
   },
   "outputs": [
    {
     "name": "stdout",
     "output_type": "stream",
     "text": [
      "0.8028122668926378\n",
      "0.7564445724941771\n"
     ]
    }
   ],
   "source": [
    "print(results['test_accuracy'].mean())\n",
    "print(results['test_f1'].mean())"
   ]
  },
  {
   "cell_type": "code",
   "execution_count": 30,
   "metadata": {},
   "outputs": [
    {
     "ename": "AttributeError",
     "evalue": "This 'StackingClassifier' has no attribute 'predict'",
     "output_type": "error",
     "traceback": [
      "\u001b[0;31m---------------------------------------------------------------------------\u001b[0m",
      "\u001b[0;31mAttributeError\u001b[0m                            Traceback (most recent call last)",
      "\u001b[0;32m/tmp/ipykernel_97382/1276156371.py\u001b[0m in \u001b[0;36m<module>\u001b[0;34m\u001b[0m\n\u001b[1;32m      1\u001b[0m \u001b[0;32mfrom\u001b[0m \u001b[0msklearn\u001b[0m\u001b[0;34m.\u001b[0m\u001b[0mmetrics\u001b[0m \u001b[0;32mimport\u001b[0m \u001b[0mconfusion_matrix\u001b[0m\u001b[0;34m,\u001b[0m \u001b[0mConfusionMatrixDisplay\u001b[0m\u001b[0;34m\u001b[0m\u001b[0;34m\u001b[0m\u001b[0m\n\u001b[1;32m      2\u001b[0m \u001b[0;34m\u001b[0m\u001b[0m\n\u001b[0;32m----> 3\u001b[0;31m \u001b[0my_test_pred\u001b[0m \u001b[0;34m=\u001b[0m \u001b[0mclf\u001b[0m\u001b[0;34m.\u001b[0m\u001b[0mpredict\u001b[0m\u001b[0;34m(\u001b[0m\u001b[0mtest_features\u001b[0m\u001b[0;34m)\u001b[0m\u001b[0;34m\u001b[0m\u001b[0;34m\u001b[0m\u001b[0m\n\u001b[0m\u001b[1;32m      4\u001b[0m \u001b[0mcm\u001b[0m \u001b[0;34m=\u001b[0m \u001b[0mconfusion_matrix\u001b[0m\u001b[0;34m(\u001b[0m\u001b[0my_test\u001b[0m\u001b[0;34m,\u001b[0m \u001b[0my_test_pred\u001b[0m\u001b[0;34m,\u001b[0m \u001b[0mlabels\u001b[0m\u001b[0;34m=\u001b[0m\u001b[0mclf_grid_svc\u001b[0m\u001b[0;34m.\u001b[0m\u001b[0mclasses_\u001b[0m\u001b[0;34m)\u001b[0m\u001b[0;34m\u001b[0m\u001b[0;34m\u001b[0m\u001b[0m\n\u001b[1;32m      5\u001b[0m \u001b[0mdisp\u001b[0m \u001b[0;34m=\u001b[0m \u001b[0mConfusionMatrixDisplay\u001b[0m\u001b[0;34m(\u001b[0m\u001b[0mconfusion_matrix\u001b[0m\u001b[0;34m=\u001b[0m\u001b[0mcm\u001b[0m\u001b[0;34m,\u001b[0m \u001b[0mdisplay_labels\u001b[0m\u001b[0;34m=\u001b[0m\u001b[0mclf_grid_svc\u001b[0m\u001b[0;34m.\u001b[0m\u001b[0mclasses_\u001b[0m\u001b[0;34m)\u001b[0m\u001b[0;34m\u001b[0m\u001b[0;34m\u001b[0m\u001b[0m\n",
      "\u001b[0;32m~/ds/ml/nlp-project/nlp-venv/lib/python3.8/site-packages/sklearn/utils/metaestimators.py\u001b[0m in \u001b[0;36m__get__\u001b[0;34m(self, obj, owner)\u001b[0m\n\u001b[1;32m    108\u001b[0m             \u001b[0;31m# this is to allow access to the docstrings.\u001b[0m\u001b[0;34m\u001b[0m\u001b[0;34m\u001b[0m\u001b[0;34m\u001b[0m\u001b[0m\n\u001b[1;32m    109\u001b[0m             \u001b[0;32mif\u001b[0m \u001b[0;32mnot\u001b[0m \u001b[0mself\u001b[0m\u001b[0;34m.\u001b[0m\u001b[0mcheck\u001b[0m\u001b[0;34m(\u001b[0m\u001b[0mobj\u001b[0m\u001b[0;34m)\u001b[0m\u001b[0;34m:\u001b[0m\u001b[0;34m\u001b[0m\u001b[0;34m\u001b[0m\u001b[0m\n\u001b[0;32m--> 110\u001b[0;31m                 \u001b[0;32mraise\u001b[0m \u001b[0mattr_err\u001b[0m\u001b[0;34m\u001b[0m\u001b[0;34m\u001b[0m\u001b[0m\n\u001b[0m\u001b[1;32m    111\u001b[0m \u001b[0;34m\u001b[0m\u001b[0m\n\u001b[1;32m    112\u001b[0m             \u001b[0;31m# lambda, but not partial, allows help() to work with update_wrapper\u001b[0m\u001b[0;34m\u001b[0m\u001b[0;34m\u001b[0m\u001b[0;34m\u001b[0m\u001b[0m\n",
      "\u001b[0;31mAttributeError\u001b[0m: This 'StackingClassifier' has no attribute 'predict'"
     ]
    }
   ],
   "source": [
    "from sklearn.metrics import confusion_matrix, ConfusionMatrixDisplay\n",
    "\n",
    "y_test_pred = clf.predict(test_features)\n",
    "cm = confusion_matrix(y_test, y_test_pred, labels=clf_grid_svc.classes_)\n",
    "disp = ConfusionMatrixDisplay(confusion_matrix=cm, display_labels=clf_grid_svc.classes_)\n",
    "disp.plot()\n",
    "plt.show()"
   ]
  },
  {
   "cell_type": "markdown",
   "metadata": {},
   "source": [
    "Comment"
   ]
  },
  {
   "cell_type": "code",
   "execution_count": null,
   "metadata": {},
   "outputs": [],
   "source": []
  },
  {
   "cell_type": "code",
   "execution_count": null,
   "metadata": {},
   "outputs": [],
   "source": []
  },
  {
   "cell_type": "markdown",
   "metadata": {},
   "source": [
    "# Neural Network\n",
    "In this second part we are going to use a sequential neural network for the classification."
   ]
  },
  {
   "cell_type": "markdown",
   "metadata": {},
   "source": [
    "### Create early stopping mechanism for NN"
   ]
  },
  {
   "cell_type": "code",
   "execution_count": 112,
   "metadata": {},
   "outputs": [],
   "source": [
    "# simple early stopping\n",
    "es = EarlyStopping(monitor='val_loss', #quantity to be monitored\n",
    "                   mode='min', #we look for decreasing patterns stop \n",
    "                   patience = 3, #number of epochs with no improvement\n",
    "                   verbose=1)\n",
    "\n",
    "np.random.seed(123)\n",
    "set_random_seed(2)"
   ]
  },
  {
   "cell_type": "markdown",
   "metadata": {},
   "source": [
    "### Transform data into a suitable input"
   ]
  },
  {
   "cell_type": "code",
   "execution_count": 113,
   "metadata": {},
   "outputs": [],
   "source": [
    "# change to dense format\n",
    "train_features_den = train_features.todense()\n",
    "test_features_den = test_features.todense()\n",
    "feature_vector_length = train_features_den.shape[1]\n",
    "\n",
    "# one-hot-encoding of labels\n",
    "n_classes = len(set(y_train))\n",
    "y_train_cat = to_categorical(y_train, n_classes)\n",
    "y_test_cat = to_categorical(y_test, n_classes)"
   ]
  },
  {
   "cell_type": "code",
   "execution_count": 114,
   "metadata": {},
   "outputs": [
    {
     "name": "stderr",
     "output_type": "stream",
     "text": [
      "2022-01-21 11:59:44.467847: W tensorflow/stream_executor/platform/default/dso_loader.cc:64] Could not load dynamic library 'libcuda.so.1'; dlerror: libcuda.so.1: cannot open shared object file: No such file or directory\n",
      "2022-01-21 11:59:44.467899: W tensorflow/stream_executor/cuda/cuda_driver.cc:269] failed call to cuInit: UNKNOWN ERROR (303)\n",
      "2022-01-21 11:59:44.467929: I tensorflow/stream_executor/cuda/cuda_diagnostics.cc:156] kernel driver does not appear to be running on this host (siprius): /proc/driver/nvidia/version does not exist\n",
      "2022-01-21 11:59:44.468316: I tensorflow/core/platform/cpu_feature_guard.cc:151] This TensorFlow binary is optimized with oneAPI Deep Neural Network Library (oneDNN) to use the following CPU instructions in performance-critical operations:  AVX2 FMA\n",
      "To enable them in other operations, rebuild TensorFlow with the appropriate compiler flags.\n"
     ]
    }
   ],
   "source": [
    "# keras does not provide f1 as a metric during training, so we need to calculate it by hand using precision and recall\n",
    "precision = tf.keras.metrics.Precision()\n",
    "recall = tf.keras.metrics.Recall()"
   ]
  },
  {
   "cell_type": "markdown",
   "metadata": {},
   "source": [
    "### Create and fit the NN"
   ]
  },
  {
   "cell_type": "code",
   "execution_count": 115,
   "metadata": {},
   "outputs": [
    {
     "name": "stderr",
     "output_type": "stream",
     "text": [
      "2022-01-21 11:59:46.805985: W tensorflow/core/framework/cpu_allocator_impl.cc:82] Allocation of 1018450464 exceeds 10% of free system memory.\n"
     ]
    },
    {
     "name": "stdout",
     "output_type": "stream",
     "text": [
      "Epoch 1/10\n",
      "52/52 - 5s - loss: 0.6035 - accuracy: 0.6953 - precision: 0.6953 - recall: 0.6953 - val_loss: 0.4744 - val_accuracy: 0.7876 - val_precision: 0.7876 - val_recall: 0.7876 - 5s/epoch - 103ms/step\n",
      "Epoch 2/10\n",
      "52/52 - 4s - loss: 0.2448 - accuracy: 0.9069 - precision: 0.9069 - recall: 0.9069 - val_loss: 0.5002 - val_accuracy: 0.7853 - val_precision: 0.7853 - val_recall: 0.7853 - 4s/epoch - 86ms/step\n",
      "Epoch 3/10\n",
      "52/52 - 4s - loss: 0.0803 - accuracy: 0.9724 - precision: 0.9724 - recall: 0.9724 - val_loss: 0.5779 - val_accuracy: 0.7792 - val_precision: 0.7792 - val_recall: 0.7792 - 4s/epoch - 84ms/step\n",
      "Epoch 4/10\n",
      "52/52 - 4s - loss: 0.0545 - accuracy: 0.9787 - precision: 0.9787 - recall: 0.9787 - val_loss: 0.5896 - val_accuracy: 0.7730 - val_precision: 0.7730 - val_recall: 0.7730 - 4s/epoch - 84ms/step\n",
      "Epoch 00004: early stopping\n"
     ]
    }
   ],
   "source": [
    "from keras.models import Sequential\n",
    "\n",
    "# create model layers\n",
    "model = Sequential() \n",
    "model.add(Dense(input_dim = feature_vector_length, units=200 , activation='relu')) \n",
    "model.add(Dense(100, activation='relu'))\n",
    "model.add(Dense(n_classes, activation='softmax')) #output layer\n",
    "\n",
    "# configure the model and start training\n",
    "model.compile(loss='binary_crossentropy', #loss metric\n",
    "    optimizer='adam',  #optimizer\n",
    "    metrics=['accuracy', precision, recall]) #displayed metric\n",
    "\n",
    "\n",
    "history = model.fit(train_features_den, y_train_cat, batch_size=100, epochs=10, verbose=2, validation_split=0.2, callbacks=[es])"
   ]
  },
  {
   "cell_type": "markdown",
   "metadata": {},
   "source": [
    "### Analyse the NN output"
   ]
  },
  {
   "cell_type": "code",
   "execution_count": 116,
   "metadata": {},
   "outputs": [
    {
     "name": "stdout",
     "output_type": "stream",
     "text": [
      "       loss  accuracy  precision    recall  val_loss  val_accuracy  \\\n",
      "0  0.603494  0.695325   0.695325  0.695325  0.474386      0.787645   \n",
      "1  0.244827  0.906878   0.906878  0.906878  0.500160      0.785328   \n",
      "2  0.080251  0.972372   0.972372  0.972372  0.577887      0.779151   \n",
      "3  0.054462  0.978748   0.978748  0.978748  0.589584      0.772973   \n",
      "\n",
      "   val_precision  val_recall        f1    val_f1  \n",
      "0       0.787645    0.787645  0.695325  0.787645  \n",
      "1       0.785328    0.785328  0.906878  0.785328  \n",
      "2       0.779151    0.779151  0.972372  0.779151  \n",
      "3       0.772973    0.772973  0.978748  0.772973  \n"
     ]
    }
   ],
   "source": [
    "history_pd = pd.DataFrame(history.history)\n",
    "history_pd['f1'] = 2/(1/history_pd['precision'] + 1/history_pd['recall'])\n",
    "history_pd['val_f1'] = 2/(1/history_pd['val_precision'] + 1/history_pd['val_recall'])\n",
    "print(history_pd)"
   ]
  },
  {
   "cell_type": "code",
   "execution_count": 118,
   "metadata": {},
   "outputs": [
    {
     "data": {
      "image/png": "[encoded data removed]",
      "text/plain": [
       "<Figure size 432x288 with 1 Axes>"
      ]
     },
     "metadata": {
      "needs_background": "light"
     },
     "output_type": "display_data"
    },
    {
     "data": {
      "image/png": "[encoded data removed]",
      "text/plain": [
       "<Figure size 432x288 with 1 Axes>"
      ]
     },
     "metadata": {
      "needs_background": "light"
     },
     "output_type": "display_data"
    }
   ],
   "source": [
    "plt.plot(history_pd['loss'])\n",
    "plt.plot(history_pd['val_loss'])\n",
    "plt.title('model loss')\n",
    "plt.ylabel('loss')\n",
    "plt.xlabel('epoch')\n",
    "plt.legend(['train', 'val'], loc='upper left')\n",
    "plt.show()\n",
    "\n",
    "# summarize history for accuracy\n",
    "plt.plot(history_pd['f1'])\n",
    "plt.plot(history_pd['val_f1'])\n",
    "plt.title('model f1 score')\n",
    "plt.ylabel('f1 score')\n",
    "plt.xlabel('epoch')\n",
    "plt.legend(['train', 'val'], loc='upper left')\n",
    "# plt.ylim(0.8, 1)\n",
    "plt.show()\n"
   ]
  },
  {
   "cell_type": "markdown",
   "metadata": {},
   "source": [
    "The training curves show a clear picture: the NN overfits our data. The train loss is reduced constantly and training f1 nealy reaches 0.98 but the validation loss increases over the epochs and validation f1 stays at about 0.78."
   ]
  },
  {
   "cell_type": "code",
   "execution_count": null,
   "metadata": {},
   "outputs": [],
   "source": [
    "y_proba = model.predict(train_features_den)\n",
    "y_train_pred = y_proba.argmax(axis=-1)\n",
    "\n",
    "y_proba = model.predict(test_features.todense())\n",
    "y_test_pred = y_proba.argmax(axis=-1)\n",
    "\n",
    "print('Train F1 score:', np.round(f1_score(y_train, y_train_pred), 3))\n",
    "print('Test F1 score:', np.round(f1_score(y_test, y_test_pred), 3))\n",
    "print('\\nTrain accuracy score:', np.round(accuracy_score(y_train, y_train_pred), 3))\n",
    "print('Test accuray score:', np.round(accuracy_score(y_test, y_test_pred), 3))"
   ]
  },
  {
   "cell_type": "markdown",
   "metadata": {},
   "source": [
    "### Model Variation\n",
    "\n",
    "In the following section we will try out different depths and activation functions for our model."
   ]
  },
  {
   "cell_type": "code",
   "execution_count": 21,
   "metadata": {},
   "outputs": [],
   "source": [
    "# the function can be used in a loop to define several models. The number of units per layer is decreased with every layer \n",
    "# to create a \"bottleneck\"\n",
    "def MLP_definer(n_layers, n_features, n_classes, activation_f):\n",
    "    \n",
    "    model = Sequential()\n",
    "    model.add(Dense(input_dim = n_features, units=500, activation=activation_f))\n",
    "    for i in range(1, n_layers):\n",
    "        model.add(Dense(units=500-10*i^2, activation=activation_f))\n",
    "        \n",
    "    model.add(Dense(units=n_classes, activation='softmax'))\n",
    "    return model"
   ]
  },
  {
   "cell_type": "code",
   "execution_count": 22,
   "metadata": {},
   "outputs": [
    {
     "name": "stdout",
     "output_type": "stream",
     "text": [
      "\n",
      " ## Activation function relu ############################################################################\n",
      "Epoch 00004: early stopping\n",
      "Number of layers: 2 \n",
      "Train Acc: 0.9741112589836121 \n",
      "Test Acc:  0.7722007632255554\n",
      "\n",
      "Epoch 00004: early stopping\n",
      "Number of layers: 3 \n",
      "Train Acc: 0.9770092964172363 \n",
      "Test Acc:  0.7783783674240112\n",
      "\n",
      "Epoch 00004: early stopping\n",
      "Number of layers: 4 \n",
      "Train Acc: 0.9781684875488281 \n",
      "Test Acc:  0.7760617733001709\n",
      "\n",
      "\n",
      " ## Activation function sigmoid ############################################################################\n",
      "Epoch 00008: early stopping\n",
      "Number of layers: 2 \n",
      "Train Acc: 0.9462905526161194 \n",
      "Test Acc:  0.7760617733001709\n",
      "\n",
      "Epoch 00009: early stopping\n",
      "Number of layers: 3 \n",
      "Train Acc: 0.9518933296203613 \n",
      "Test Acc:  0.7814671993255615\n",
      "\n",
      "Epoch 00009: early stopping\n",
      "Number of layers: 4 \n",
      "Train Acc: 0.5608578324317932 \n",
      "Test Acc:  0.5652509927749634\n",
      "\n"
     ]
    }
   ],
   "source": [
    "out = {}\n",
    "for fun in ('relu', 'sigmoid'):\n",
    "    print(f'\\n ## Activation function {fun} ############################################################################')\n",
    "    for i in range(2,5):    \n",
    "        model = MLP_definer(i, n_features=feature_vector_length, n_classes=n_classes, activation_f=fun)\n",
    "        model.compile(\n",
    "            loss='binary_crossentropy',\n",
    "            optimizer='adam',\n",
    "            metrics=['accuracy', precision, recall] #displayed metric\n",
    "        )\n",
    "        history = model.fit(train_features_den, y_train_cat, batch_size=100, epochs=20, verbose=0, validation_split=0.2, callbacks=[es])\n",
    "        out[i] = [history.history['accuracy'][-1],  history.history['val_accuracy'][-1]]\n",
    "        print(f'Number of layers: {i} \\nTrain Acc: {history.history[\"accuracy\"][-1]} \\nTest Acc:  {history.history[\"val_accuracy\"][-1]}\\n')"
   ]
  },
  {
   "cell_type": "code",
   "execution_count": null,
   "metadata": {},
   "outputs": [],
   "source": []
  },
  {
   "cell_type": "markdown",
   "metadata": {},
   "source": [
    "# Appendix"
   ]
  },
  {
   "cell_type": "markdown",
   "metadata": {},
   "source": [
    "### Bagging Classifier"
   ]
  },
  {
   "cell_type": "code",
   "execution_count": 57,
   "metadata": {},
   "outputs": [
    {
     "name": "stderr",
     "output_type": "stream",
     "text": [
      "[Parallel(n_jobs=-1)]: Using backend LokyBackend with 8 concurrent workers.\n",
      "[Parallel(n_jobs=-1)]: Done   2 out of   5 | elapsed:    9.5s remaining:   14.2s\n",
      "[Parallel(n_jobs=-1)]: Done   5 out of   5 | elapsed:   12.1s remaining:    0.0s\n",
      "[Parallel(n_jobs=-1)]: Done   5 out of   5 | elapsed:   12.1s finished\n"
     ]
    }
   ],
   "source": [
    "from sklearn import model_selection\n",
    "from sklearn.ensemble import BaggingClassifier\n",
    "from sklearn.tree import DecisionTreeClassifier\n",
    "\n",
    "\n",
    "seed = 7\n",
    "clf = DecisionTreeClassifier()\n",
    "num_trees = 10\n",
    "model = BaggingClassifier(base_estimator=cart, n_estimators=num_trees, random_state=seed)\n",
    "results = model_selection.cross_validate(model, train_features, y_train, scoring=['accuracy', 'f1'] , cv=5, verbose=2, n_jobs=-1)\n",
    "\n",
    "print(results['test_accuracy'].mean())\n",
    "print(results['test_f1'].mean())"
   ]
  },
  {
   "cell_type": "markdown",
   "metadata": {},
   "source": [
    "### Adaboost"
   ]
  },
  {
   "cell_type": "code",
   "execution_count": null,
   "metadata": {},
   "outputs": [],
   "source": [
    "from sklearn.ensemble import AdaBoostClassifier\n",
    "\n",
    "clf = AdaBoostClassifier(n_estimators=num_trees, random_state=seed)\n",
    "results = model_selection.cross_validate(clf, train_features, y_train, scoring=['accuracy', 'f1'] , cv=kfold, verbose=2, n_jobs=-1)\n",
    "\n",
    "print(results['test_accuracy'].mean())\n",
    "print(results['test_f1'].mean())"
   ]
  }
 ],
 "metadata": {
  "kernelspec": {
   "display_name": "Python 3",
   "language": "python",
   "name": "python3"
  },
  "language_info": {
   "codemirror_mode": {
    "name": "ipython",
    "version": 3
   },
   "file_extension": ".py",
   "mimetype": "text/x-python",
   "name": "python",
   "nbconvert_exporter": "python",
   "pygments_lexer": "ipython3",
   "version": "3.8.3"
  }
 },
 "nbformat": 4,
 "nbformat_minor": 5
}
