{
  "nbformat": 4,
  "nbformat_minor": 0,
  "metadata": {
    "colab": {
      "name": "DisasterTweets.ipynb",
      "provenance": [],
      "collapsed_sections": []
    },
    "kernelspec": {
      "name": "python3",
      "display_name": "Python 3"
    },
    "language_info": {
      "name": "python"
    }
  },
  "cells": [
    {
      "cell_type": "markdown",
      "source": [
        "I did not find the gold labels for the test set, so the only way to check your performance on the test set is to make a submission on the [Kaggle website](https://www.kaggle.com/c/nlp-getting-started/submit). \n",
        "I made a function to create a submission file from a prediction vector, *download_predictions_to_file()*, feel free to use it. Alternatively, you can just check your performance on a subset of the training set. "
      ],
      "metadata": {
        "id": "swn7Mc9vQHqo"
      }
    },
    {
      "cell_type": "code",
      "metadata": {
        "id": "490C2OoPs4PX"
      },
      "source": [
        "import numpy as np\n",
        "import pandas as pd \n",
        "\n",
        "data_url = 'https://www.math.unipd.it/~dasan/disaster/'\n",
        "train_csv = pd.read_csv(data_url + 'train.csv', sep=\",\") \n",
        "test_csv = pd.read_csv(data_url + 'test.csv', sep=\",\") \n"
      ],
      "execution_count": null,
      "outputs": []
    },
    {
      "cell_type": "code",
      "metadata": {
        "id": "CPzMfoAKxhxQ"
      },
      "source": [
        "def download_predictions_to_file(id_array, predictions_array):\n",
        "  # This function, given a numpy array with the ids of the test tweets and a numpy array with the corresponding predictions, \n",
        "  # creates and let's you download a prediction file suitable to be uploaded to the Kaggle website\n",
        "\n",
        "  id_array = id_array.reshape(len(id_array),1) # making sure the arrays are of the size requested by hstack(), i.e. (x,1) instead of (x,) \n",
        "  predictions_array = predictions_array.reshape(len(predictions_array),1)\n",
        "\n",
        "  from google.colab import files\n",
        "  result = pd.DataFrame(np.hstack((id_array, predictions_array)), columns=['id','target'])\n",
        "  result.to_csv('prediction_file.csv', index=False)\n",
        "  files.download('prediction_file.csv')\n"
      ],
      "execution_count": null,
      "outputs": []
    },
    {
      "cell_type": "code",
      "source": [
        "#let's take a look at the data\n",
        "print(train_csv.head())\n",
        "\n",
        "Y_train = train_csv[\"target\"].values \n",
        "X_train = train_csv.values[:, 1:4] # extracting the columns keyword, location and text\n",
        "\n",
        "#let's print one example to check we picked the right columns\n",
        "print(X_train[0])\n",
        "\n",
        "X_test_id = test_csv[\"id\"].values # these are needed to build output prediction files if you want to submit your predictions to the Kaggle website (see format of the submission)\n",
        "\n",
        "print(Y_train.shape, X_test_id.shape, X_train.shape)\n",
        "\n",
        "# create a dummy pessimistic predictor that always says DISASTER (class 1) \n",
        "test_predictions = np.ones((len(X_test_id),1), dtype=int)\n",
        "\n",
        "download_predictions_to_file(X_test_id, test_predictions) # download the prediction file\n"
      ],
      "metadata": {
        "colab": {
          "base_uri": "https://localhost:8080/",
          "height": 207
        },
        "id": "ncvoxHehGLCR",
        "outputId": "f47e44b2-0a4c-4b8a-8677-296578dd18ae"
      },
      "execution_count": null,
      "outputs": [
        {
          "output_type": "stream",
          "name": "stdout",
          "text": [
            "   id keyword  ...                                               text target\n",
            "0   1     NaN  ...  Our Deeds are the Reason of this #earthquake M...      1\n",
            "1   4     NaN  ...             Forest fire near La Ronge Sask. Canada      1\n",
            "2   5     NaN  ...  All residents asked to 'shelter in place' are ...      1\n",
            "3   6     NaN  ...  13,000 people receive #wildfires evacuation or...      1\n",
            "4   7     NaN  ...  Just got sent this photo from Ruby #Alaska as ...      1\n",
            "\n",
            "[5 rows x 5 columns]\n",
            "[nan nan\n",
            " 'Our Deeds are the Reason of this #earthquake May ALLAH Forgive us all']\n",
            "(7613,) (3263,) (7613, 3)\n"
          ]
        },
        {
          "output_type": "display_data",
          "data": {
            "application/javascript": [
              "\n",
              "    async function download(id, filename, size) {\n",
              "      if (!google.colab.kernel.accessAllowed) {\n",
              "        return;\n",
              "      }\n",
              "      const div = document.createElement('div');\n",
              "      const label = document.createElement('label');\n",
              "      label.textContent = `Downloading \"${filename}\": `;\n",
              "      div.appendChild(label);\n",
              "      const progress = document.createElement('progress');\n",
              "      progress.max = size;\n",
              "      div.appendChild(progress);\n",
              "      document.body.appendChild(div);\n",
              "\n",
              "      const buffers = [];\n",
              "      let downloaded = 0;\n",
              "\n",
              "      const channel = await google.colab.kernel.comms.open(id);\n",
              "      // Send a message to notify the kernel that we're ready.\n",
              "      channel.send({})\n",
              "\n",
              "      for await (const message of channel.messages) {\n",
              "        // Send a message to notify the kernel that we're ready.\n",
              "        channel.send({})\n",
              "        if (message.buffers) {\n",
              "          for (const buffer of message.buffers) {\n",
              "            buffers.push(buffer);\n",
              "            downloaded += buffer.byteLength;\n",
              "            progress.value = downloaded;\n",
              "          }\n",
              "        }\n",
              "      }\n",
              "      const blob = new Blob(buffers, {type: 'application/binary'});\n",
              "      const a = document.createElement('a');\n",
              "      a.href = window.URL.createObjectURL(blob);\n",
              "      a.download = filename;\n",
              "      div.appendChild(a);\n",
              "      a.click();\n",
              "      div.remove();\n",
              "    }\n",
              "  "
            ],
            "text/plain": [
              "<IPython.core.display.Javascript object>"
            ]
          },
          "metadata": {}
        },
        {
          "output_type": "display_data",
          "data": {
            "application/javascript": [
              "download(\"download_a670bcc3-1abd-4919-9661-5d75ca69d31e\", \"prediction_file.csv\", 22746)"
            ],
            "text/plain": [
              "<IPython.core.display.Javascript object>"
            ]
          },
          "metadata": {}
        }
      ]
    }
  ]
}