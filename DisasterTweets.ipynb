{
 "cells": [
  {
   "cell_type": "markdown",
   "metadata": {
    "id": "swn7Mc9vQHqo"
   },
   "source": [
    "I did not find the gold labels for the test set, so the only way to check your performance on the test set is to make a submission on the [Kaggle website](https://www.kaggle.com/c/nlp-getting-started/submit). \n",
    "I made a function to create a submission file from a prediction vector, *download_predictions_to_file()*, feel free to use it. Alternatively, you can just check your performance on a subset of the training set. "
   ]
  },
  {
   "cell_type": "code",
   "execution_count": 2,
   "metadata": {
    "id": "490C2OoPs4PX"
   },
   "outputs": [],
   "source": [
    "import numpy as np\n",
    "import pandas as pd \n",
    "\n",
    "data_url = 'https://www.math.unipd.it/~dasan/disaster/'\n",
    "train_csv = pd.read_csv(data_url + 'train.csv', sep=\",\") \n",
    "test_csv = pd.read_csv(data_url + 'test.csv', sep=\",\") \n"
   ]
  },
  {
   "cell_type": "code",
   "execution_count": 8,
   "metadata": {
    "id": "CPzMfoAKxhxQ"
   },
   "outputs": [],
   "source": [
    "def download_predictions_to_file(id_array, predictions_array):\n",
    "  # This function, given a numpy array with the ids of the test tweets and a numpy array with the corresponding predictions, \n",
    "  # creates and let's you download a prediction file suitable to be uploaded to the Kaggle website\n",
    "\n",
    "  id_array = id_array.reshape(len(id_array),1) # making sure the arrays are of the size requested by hstack(), i.e. (x,1) instead of (x,) \n",
    "  predictions_array = predictions_array.reshape(len(predictions_array),1)\n",
    "\n",
    "\n",
    "  result = pd.DataFrame(np.hstack((id_array, predictions_array)), columns=['id','target'])\n",
    "  result.to_csv('data/prediction_file.csv', index=False)\n"
   ]
  },
  {
   "cell_type": "code",
   "execution_count": 9,
   "metadata": {
    "colab": {
     "base_uri": "https://localhost:8080/",
     "height": 207
    },
    "id": "ncvoxHehGLCR",
    "outputId": "f47e44b2-0a4c-4b8a-8677-296578dd18ae"
   },
   "outputs": [
    {
     "name": "stdout",
     "output_type": "stream",
     "text": [
      "   id keyword location                                               text  \\\n",
      "0   1     NaN      NaN  Our Deeds are the Reason of this #earthquake M...   \n",
      "1   4     NaN      NaN             Forest fire near La Ronge Sask. Canada   \n",
      "2   5     NaN      NaN  All residents asked to 'shelter in place' are ...   \n",
      "3   6     NaN      NaN  13,000 people receive #wildfires evacuation or...   \n",
      "4   7     NaN      NaN  Just got sent this photo from Ruby #Alaska as ...   \n",
      "\n",
      "   target  \n",
      "0       1  \n",
      "1       1  \n",
      "2       1  \n",
      "3       1  \n",
      "4       1  \n",
      "[nan nan\n",
      " 'Our Deeds are the Reason of this #earthquake May ALLAH Forgive us all']\n",
      "(7613,) (3263,) (7613, 3)\n"
     ]
    }
   ],
   "source": [
    "#let's take a look at the data\n",
    "print(train_csv.head())\n",
    "\n",
    "Y_train = train_csv[\"target\"].values \n",
    "X_train = train_csv.values[:, 1:4] # extracting the columns keyword, location and text\n",
    "\n",
    "#let's print one example to check we picked the right columns\n",
    "print(X_train[0])\n",
    "\n",
    "X_test_id = test_csv[\"id\"].values # these are needed to build output prediction files if you want to submit your predictions to the Kaggle website (see format of the submission)\n",
    "\n",
    "print(Y_train.shape, X_test_id.shape, X_train.shape)\n",
    "\n",
    "# create a dummy pessimistic predictor that always says DISASTER (class 1) \n",
    "test_predictions = np.ones((len(X_test_id),1), dtype=int)\n",
    "\n",
    "download_predictions_to_file(X_test_id, test_predictions) # download the prediction file\n"
   ]
  },
  {
   "cell_type": "code",
   "execution_count": null,
   "metadata": {},
   "outputs": [],
   "source": []
  }
 ],
 "metadata": {
  "colab": {
   "collapsed_sections": [],
   "name": "DisasterTweets.ipynb",
   "provenance": []
  },
  "kernelspec": {
   "display_name": "Python 3 (ipykernel)",
   "language": "python",
   "name": "python3"
  },
  "language_info": {
   "codemirror_mode": {
    "name": "ipython",
    "version": 3
   },
   "file_extension": ".py",
   "mimetype": "text/x-python",
   "name": "python",
   "nbconvert_exporter": "python",
   "pygments_lexer": "ipython3",
   "version": "3.8.10"
  }
 },
 "nbformat": 4,
 "nbformat_minor": 1
}
