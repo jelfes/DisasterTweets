{
 "cells": [
  {
   "cell_type": "markdown",
   "id": "dfe4829f",
   "metadata": {},
   "source": [
    "# Download Data"
   ]
  },
  {
   "cell_type": "markdown",
   "id": "40d701a6",
   "metadata": {},
   "source": [
    "### Dowload data from the kaggle website"
   ]
  },
  {
   "cell_type": "code",
   "execution_count": null,
   "id": "a7fbb0b2",
   "metadata": {},
   "outputs": [],
   "source": [
    "import numpy as np\n",
    "import pandas as pd \n",
    "import nltk\n",
    "\n",
    "# get data\n",
    "data_url = 'https://www.math.unipd.it/~dasan/disaster/'\n",
    "train_csv = pd.read_csv(data_url + 'train.csv', sep=\",\") \n",
    "test_csv = pd.read_csv(data_url + 'test.csv', sep=\",\") "
   ]
  },
  {
   "cell_type": "code",
   "execution_count": 3,
   "id": "0c5c4757",
   "metadata": {},
   "outputs": [],
   "source": [
    "# write data to csv\n",
    "train_csv.to_csv('data/disaster_train.csv', index=False)\n",
    "test_csv.to_csv('data/disaster_test.csv', index=False)"
   ]
  },
  {
   "cell_type": "markdown",
   "id": "007c2729",
   "metadata": {},
   "source": [
    "### Download stopwords for analysis"
   ]
  },
  {
   "cell_type": "code",
   "execution_count": null,
   "id": "545afe9a",
   "metadata": {},
   "outputs": [],
   "source": [
    "nltk.download('stopwords')"
   ]
  }
 ],
 "metadata": {
  "kernelspec": {
   "display_name": "Python 3 (ipykernel)",
   "language": "python",
   "name": "python3"
  },
  "language_info": {
   "codemirror_mode": {
    "name": "ipython",
    "version": 3
   },
   "file_extension": ".py",
   "mimetype": "text/x-python",
   "name": "python",
   "nbconvert_exporter": "python",
   "pygments_lexer": "ipython3",
   "version": "3.8.10"
  }
 },
 "nbformat": 4,
 "nbformat_minor": 5
}
